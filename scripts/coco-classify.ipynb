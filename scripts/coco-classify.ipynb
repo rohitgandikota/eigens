{
 "cells": [
  {
   "cell_type": "code",
   "execution_count": 36,
   "id": "285aab21",
   "metadata": {},
   "outputs": [],
   "source": [
    "import torch\n",
    "import torchvision\n",
    "import torchvision.transforms as transforms\n",
    "from baukit import ImageFolderSet, show, renormalize, set_requires_grad, Trace, pbar, TraceDict\n",
    "import matplotlib.pyplot as plt\n",
    "import numpy as np\n",
    "import torch.nn as nn\n",
    "import torch.nn.functional as F"
   ]
  },
  {
   "cell_type": "code",
   "execution_count": 2,
   "id": "43af3fdc",
   "metadata": {},
   "outputs": [
    {
     "data": {
      "text/plain": [
       "VGG(\n",
       "  (features): Sequential(\n",
       "    (0): Conv2d(3, 64, kernel_size=(3, 3), stride=(1, 1), padding=(1, 1))\n",
       "    (1): BatchNorm2d(64, eps=1e-05, momentum=0.1, affine=True, track_running_stats=True)\n",
       "    (2): ReLU(inplace=True)\n",
       "    (3): Conv2d(64, 64, kernel_size=(3, 3), stride=(1, 1), padding=(1, 1))\n",
       "    (4): BatchNorm2d(64, eps=1e-05, momentum=0.1, affine=True, track_running_stats=True)\n",
       "    (5): ReLU(inplace=True)\n",
       "    (6): MaxPool2d(kernel_size=2, stride=2, padding=0, dilation=1, ceil_mode=False)\n",
       "    (7): Conv2d(64, 128, kernel_size=(3, 3), stride=(1, 1), padding=(1, 1))\n",
       "    (8): BatchNorm2d(128, eps=1e-05, momentum=0.1, affine=True, track_running_stats=True)\n",
       "    (9): ReLU(inplace=True)\n",
       "    (10): Conv2d(128, 128, kernel_size=(3, 3), stride=(1, 1), padding=(1, 1))\n",
       "    (11): BatchNorm2d(128, eps=1e-05, momentum=0.1, affine=True, track_running_stats=True)\n",
       "    (12): ReLU(inplace=True)\n",
       "    (13): MaxPool2d(kernel_size=2, stride=2, padding=0, dilation=1, ceil_mode=False)\n",
       "    (14): Conv2d(128, 256, kernel_size=(3, 3), stride=(1, 1), padding=(1, 1))\n",
       "    (15): BatchNorm2d(256, eps=1e-05, momentum=0.1, affine=True, track_running_stats=True)\n",
       "    (16): ReLU(inplace=True)\n",
       "    (17): Conv2d(256, 256, kernel_size=(3, 3), stride=(1, 1), padding=(1, 1))\n",
       "    (18): BatchNorm2d(256, eps=1e-05, momentum=0.1, affine=True, track_running_stats=True)\n",
       "    (19): ReLU(inplace=True)\n",
       "    (20): MaxPool2d(kernel_size=2, stride=2, padding=0, dilation=1, ceil_mode=False)\n",
       "    (21): Conv2d(256, 512, kernel_size=(3, 3), stride=(1, 1), padding=(1, 1))\n",
       "    (22): BatchNorm2d(512, eps=1e-05, momentum=0.1, affine=True, track_running_stats=True)\n",
       "    (23): ReLU(inplace=True)\n",
       "    (24): Conv2d(512, 512, kernel_size=(3, 3), stride=(1, 1), padding=(1, 1))\n",
       "    (25): BatchNorm2d(512, eps=1e-05, momentum=0.1, affine=True, track_running_stats=True)\n",
       "    (26): ReLU(inplace=True)\n",
       "    (27): MaxPool2d(kernel_size=2, stride=2, padding=0, dilation=1, ceil_mode=False)\n",
       "    (28): Conv2d(512, 512, kernel_size=(3, 3), stride=(1, 1), padding=(1, 1))\n",
       "    (29): BatchNorm2d(512, eps=1e-05, momentum=0.1, affine=True, track_running_stats=True)\n",
       "    (30): ReLU(inplace=True)\n",
       "    (31): Conv2d(512, 512, kernel_size=(3, 3), stride=(1, 1), padding=(1, 1))\n",
       "    (32): BatchNorm2d(512, eps=1e-05, momentum=0.1, affine=True, track_running_stats=True)\n",
       "    (33): ReLU(inplace=True)\n",
       "    (34): MaxPool2d(kernel_size=2, stride=2, padding=0, dilation=1, ceil_mode=False)\n",
       "  )\n",
       "  (avgpool): AdaptiveAvgPool2d(output_size=(1, 1))\n",
       "  (classifier): Sequential(\n",
       "    (0): Linear(in_features=512, out_features=4096, bias=True)\n",
       "    (1): ReLU(inplace=True)\n",
       "    (2): Dropout(p=0.5, inplace=False)\n",
       "    (3): Linear(in_features=4096, out_features=4096, bias=True)\n",
       "    (4): ReLU(inplace=True)\n",
       "    (5): Dropout(p=0.5, inplace=False)\n",
       "    (6): Linear(in_features=4096, out_features=10, bias=True)\n",
       "  )\n",
       ")"
      ]
     },
     "execution_count": 2,
     "metadata": {},
     "output_type": "execute_result"
    }
   ],
   "source": [
    "import os\n",
    "\n",
    "import torch\n",
    "import torch.nn as nn\n",
    "\n",
    "__all__ = [\n",
    "    \"VGG\",\n",
    "    \"vgg11_bn\",\n",
    "    \"vgg13_bn\",\n",
    "    \"vgg16_bn\",\n",
    "    \"vgg19_bn\",\n",
    "]\n",
    "\n",
    "device = 'cuda:0'\n",
    "\n",
    "class VGG(nn.Module):\n",
    "    def __init__(self, features, num_classes=10, init_weights=True):\n",
    "        super(VGG, self).__init__()\n",
    "        self.features = features\n",
    "        # CIFAR 10 (7, 7) to (1, 1)\n",
    "        # self.avgpool = nn.AdaptiveAvgPool2d((7, 7))\n",
    "        self.avgpool = nn.AdaptiveAvgPool2d((1, 1))\n",
    "\n",
    "        self.classifier = nn.Sequential(\n",
    "            nn.Linear(512 * 1 * 1, 4096),\n",
    "            # nn.Linear(512 * 7 * 7, 4096),\n",
    "            nn.ReLU(True),\n",
    "            nn.Dropout(),\n",
    "            nn.Linear(4096, 4096),\n",
    "            nn.ReLU(True),\n",
    "            nn.Dropout(),\n",
    "            nn.Linear(4096, num_classes),\n",
    "        )\n",
    "        if init_weights:\n",
    "            self._initialize_weights()\n",
    "\n",
    "    def forward(self, x):\n",
    "        x = self.features(x)\n",
    "        x = self.avgpool(x)\n",
    "        x = x.view(x.size(0), -1)\n",
    "        x = self.classifier(x)\n",
    "        return x\n",
    "\n",
    "    def _initialize_weights(self):\n",
    "        for m in self.modules():\n",
    "            if isinstance(m, nn.Conv2d):\n",
    "                nn.init.kaiming_normal_(m.weight, mode=\"fan_out\", nonlinearity=\"relu\")\n",
    "                if m.bias is not None:\n",
    "                    nn.init.constant_(m.bias, 0)\n",
    "            elif isinstance(m, nn.BatchNorm2d):\n",
    "                nn.init.constant_(m.weight, 1)\n",
    "                nn.init.constant_(m.bias, 0)\n",
    "            elif isinstance(m, nn.Linear):\n",
    "                nn.init.normal_(m.weight, 0, 0.01)\n",
    "                nn.init.constant_(m.bias, 0)\n",
    "\n",
    "\n",
    "def make_layers(cfg, batch_norm=False):\n",
    "    layers = []\n",
    "    in_channels = 3\n",
    "    for v in cfg:\n",
    "        if v == \"M\":\n",
    "            layers += [nn.MaxPool2d(kernel_size=2, stride=2)]\n",
    "        else:\n",
    "            conv2d = nn.Conv2d(in_channels, v, kernel_size=3, padding=1)\n",
    "            if batch_norm:\n",
    "                layers += [conv2d, nn.BatchNorm2d(v), nn.ReLU(inplace=True)]\n",
    "            else:\n",
    "                layers += [conv2d, nn.ReLU(inplace=True)]\n",
    "            in_channels = v\n",
    "    return nn.Sequential(*layers)\n",
    "\n",
    "\n",
    "cfgs = {\n",
    "    \"A\": [64, \"M\", 128, \"M\", 256, 256, \"M\", 512, 512, \"M\", 512, 512, \"M\"],\n",
    "    \"B\": [64, 64, \"M\", 128, 128, \"M\", 256, 256, \"M\", 512, 512, \"M\", 512, 512, \"M\"],\n",
    "    \"D\": [\n",
    "        64,\n",
    "        64,\n",
    "        \"M\",\n",
    "        128,\n",
    "        128,\n",
    "        \"M\",\n",
    "        256,\n",
    "        256,\n",
    "        256,\n",
    "        \"M\",\n",
    "        512,\n",
    "        512,\n",
    "        512,\n",
    "        \"M\",\n",
    "        512,\n",
    "        512,\n",
    "        512,\n",
    "        \"M\",\n",
    "    ],\n",
    "    \"E\": [\n",
    "        64,\n",
    "        64,\n",
    "        \"M\",\n",
    "        128,\n",
    "        128,\n",
    "        \"M\",\n",
    "        256,\n",
    "        256,\n",
    "        256,\n",
    "        256,\n",
    "        \"M\",\n",
    "        512,\n",
    "        512,\n",
    "        512,\n",
    "        512,\n",
    "        \"M\",\n",
    "        512,\n",
    "        512,\n",
    "        512,\n",
    "        512,\n",
    "        \"M\",\n",
    "    ],\n",
    "}\n",
    "\n",
    "\n",
    "def _vgg(arch, cfg, batch_norm, pretrained, progress, device, **kwargs):\n",
    "    if pretrained:\n",
    "        kwargs[\"init_weights\"] = False\n",
    "    model = VGG(make_layers(cfgs[cfg], batch_norm=batch_norm), **kwargs)\n",
    "    if pretrained:\n",
    "        state_dict = torch.load(\n",
    "             \"state_dicts/\" + arch + \".pt\", map_location=device\n",
    "        )\n",
    "        model.load_state_dict(state_dict)\n",
    "    return model\n",
    "\n",
    "\n",
    "def vgg11_bn(pretrained=False, progress=True, device=\"cpu\", **kwargs):\n",
    "    \"\"\"VGG 11-layer model (configuration \"A\") with batch normalization\n",
    "    Args:\n",
    "        pretrained (bool): If True, returns a model pre-trained on ImageNet\n",
    "        progress (bool): If True, displays a progress bar of the download to stderr\n",
    "    \"\"\"\n",
    "    return _vgg(\"vgg11_bn\", \"A\", True, pretrained, progress, device, **kwargs)\n",
    "\n",
    "\n",
    "def vgg13_bn(pretrained=False, progress=True, device=\"cpu\", **kwargs):\n",
    "    \"\"\"VGG 13-layer model (configuration \"B\") with batch normalization\n",
    "    Args:\n",
    "        pretrained (bool): If True, returns a model pre-trained on ImageNet\n",
    "        progress (bool): If True, displays a progress bar of the download to stderr\n",
    "    \"\"\"\n",
    "    return _vgg(\"vgg13_bn\", \"B\", True, pretrained, progress, device, **kwargs)\n",
    "\n",
    "\n",
    "def vgg16_bn(pretrained=False, progress=True, device=\"cpu\", **kwargs):\n",
    "    \"\"\"VGG 16-layer model (configuration \"D\") with batch normalization\n",
    "    Args:\n",
    "        pretrained (bool): If True, returns a model pre-trained on ImageNet\n",
    "        progress (bool): If True, displays a progress bar of the download to stderr\n",
    "    \"\"\"\n",
    "    return _vgg(\"vgg16_bn\", \"D\", True, pretrained, progress, device, **kwargs)\n",
    "\n",
    "\n",
    "def vgg19_bn(pretrained=False, progress=True, device=\"cpu\", **kwargs):\n",
    "    \"\"\"VGG 19-layer model (configuration 'E') with batch normalization\n",
    "    Args:\n",
    "        pretrained (bool): If True, returns a model pre-trained on ImageNet\n",
    "        progress (bool): If True, displays a progress bar of the download to stderr\n",
    "    \"\"\"\n",
    "    return _vgg(\"vgg19_bn\", \"E\", True, pretrained, progress, device, **kwargs)\n",
    "\n",
    "model = vgg13_bn(pretrained=True)\n",
    "\n",
    "model.to(device)\n",
    "# out = model(batch)"
   ]
  },
  {
   "cell_type": "code",
   "execution_count": 37,
   "id": "7636be6c",
   "metadata": {},
   "outputs": [
    {
     "name": "stdout",
     "output_type": "stream",
     "text": [
      "Files already downloaded and verified\n",
      "Files already downloaded and verified\n"
     ]
    }
   ],
   "source": [
    "transform = transforms.Compose(\n",
    "    [transforms.ToTensor(),\n",
    "     transforms.Normalize((0.5, 0.5, 0.5), (0.5, 0.5, 0.5))])\n",
    "\n",
    "batch_size = 4\n",
    "\n",
    "trainset = torchvision.datasets.CIFAR10(root='./data', train=True,\n",
    "                                        download=True, transform=transform)\n",
    "trainloader = torch.utils.data.DataLoader(trainset, batch_size=batch_size,\n",
    "                                          shuffle=True, num_workers=2)\n",
    "\n",
    "testset = torchvision.datasets.CIFAR10(root='./data', train=False,\n",
    "                                       download=True, transform=transform)\n",
    "testloader = torch.utils.data.DataLoader(testset, batch_size=batch_size,\n",
    "                                         shuffle=False, num_workers=2)\n",
    "\n",
    "classes = ('plane', 'car', 'bird', 'cat',\n",
    "           'deer', 'dog', 'frog', 'horse', 'ship', 'truck')"
   ]
  },
  {
   "cell_type": "code",
   "execution_count": 38,
   "id": "e2b1a15c",
   "metadata": {},
   "outputs": [
    {
     "data": {
      "image/png": "[encoded data removed]",
      "text/plain": [
       "<Figure size 640x480 with 1 Axes>"
      ]
     },
     "metadata": {},
     "output_type": "display_data"
    },
    {
     "name": "stdout",
     "output_type": "stream",
     "text": [
      "plane horse ship  bird \n"
     ]
    }
   ],
   "source": [
    "\n",
    "\n",
    "# functions to show an image\n",
    "\n",
    "\n",
    "def imshow(img):\n",
    "    img = img / 2 + 0.5     # unnormalize\n",
    "    npimg = img.numpy()\n",
    "    plt.imshow(np.transpose(npimg, (1, 2, 0)))\n",
    "    plt.show()\n",
    "\n",
    "\n",
    "# get some random training images\n",
    "dataiter = iter(trainloader)\n",
    "images, labels = next(dataiter)\n",
    "\n",
    "# show images\n",
    "imshow(torchvision.utils.make_grid(images))\n",
    "# print labels\n",
    "print(' '.join(f'{classes[labels[j]]:5s}' for j in range(batch_size)))"
   ]
  },
  {
   "cell_type": "code",
   "execution_count": 39,
   "id": "298284b8",
   "metadata": {},
   "outputs": [],
   "source": [
    "class Net(nn.Module):\n",
    "    def __init__(self):\n",
    "        super().__init__()\n",
    "        self.conv1 = nn.Conv2d(3, 6, 5)\n",
    "        self.pool = nn.MaxPool2d(2, 2)\n",
    "        self.conv2 = nn.Conv2d(6, 16, 5)\n",
    "        self.fc1 = nn.Linear(16 * 5 * 5, 120)\n",
    "        self.fc2 = nn.Linear(120, 84)\n",
    "        self.fc3 = nn.Linear(84, 10)\n",
    "        self.softmax = nn.Softmax(dim=1)\n",
    "\n",
    "    def forward(self, x):\n",
    "        x = self.pool(F.relu(self.conv1(x)))\n",
    "        x = self.pool(F.relu(self.conv2(x)))\n",
    "        x = torch.flatten(x, 1) # flatten all dimensions except batch\n",
    "        x = F.relu(self.fc1(x))\n",
    "        x = F.relu(self.fc2(x))\n",
    "        x = self.fc3(x)\n",
    "#         x = self.softmax(x)\n",
    "        return x\n",
    "\n",
    "\n",
    "# net = model\n",
    "net = Net()"
   ]
  },
  {
   "cell_type": "code",
   "execution_count": 6,
   "id": "730d1207",
   "metadata": {},
   "outputs": [],
   "source": [
    "import torch.optim as optim\n",
    "\n",
    "criterion = nn.CrossEntropyLoss()\n",
    "optimizer = optim.SGD(net.parameters(), lr=0.001, momentum=0.9)"
   ]
  },
  {
   "cell_type": "code",
   "execution_count": 7,
   "id": "a037c82d",
   "metadata": {},
   "outputs": [
    {
     "name": "stdout",
     "output_type": "stream",
     "text": [
      "[1,  2000] loss: 2.234\n",
      "[1,  4000] loss: 1.865\n",
      "[1,  6000] loss: 1.671\n",
      "[1,  8000] loss: 1.575\n",
      "[1, 10000] loss: 1.499\n",
      "[1, 12000] loss: 1.455\n",
      "[2,  2000] loss: 1.386\n",
      "[2,  4000] loss: 1.347\n",
      "[2,  6000] loss: 1.347\n",
      "[2,  8000] loss: 1.348\n",
      "[2, 10000] loss: 1.317\n",
      "[2, 12000] loss: 1.283\n",
      "Finished Training\n"
     ]
    }
   ],
   "source": [
    "for epoch in range(2):  # loop over the dataset multiple times\n",
    "\n",
    "    running_loss = 0.0\n",
    "    for i, data in enumerate(trainloader, 0):\n",
    "        # get the inputs; data is a list of [inputs, labels]\n",
    "        inputs, labels = data\n",
    "\n",
    "        # zero the parameter gradients\n",
    "        optimizer.zero_grad()\n",
    "\n",
    "        # forward + backward + optimize\n",
    "        outputs = net(inputs)\n",
    "        loss = criterion(outputs, labels)\n",
    "        loss.backward()\n",
    "        optimizer.step()\n",
    "\n",
    "        # print statistics\n",
    "        running_loss += loss.item()\n",
    "        if i % 2000 == 1999:    # print every 2000 mini-batches\n",
    "            print(f'[{epoch + 1}, {i + 1:5d}] loss: {running_loss / 2000:.3f}')\n",
    "            running_loss = 0.0\n",
    "\n",
    "print('Finished Training')"
   ]
  },
  {
   "cell_type": "code",
   "execution_count": 7,
   "id": "cab6dbec",
   "metadata": {},
   "outputs": [],
   "source": [
    "PATH = './cifar_net.pth'\n",
    "torch.save(net.state_dict(), PATH)"
   ]
  },
  {
   "cell_type": "code",
   "execution_count": 16,
   "id": "f751d60f",
   "metadata": {
    "scrolled": true
   },
   "outputs": [
    {
     "data": {
      "image/png": "[encoded data removed]",
      "text/plain": [
       "<Figure size 640x480 with 1 Axes>"
      ]
     },
     "metadata": {},
     "output_type": "display_data"
    },
    {
     "name": "stdout",
     "output_type": "stream",
     "text": [
      "GroundTruth:  cat   ship  ship  plane\n"
     ]
    }
   ],
   "source": [
    "dataiter = iter(testloader)\n",
    "images, labels = next(dataiter)\n",
    "\n",
    "# print images\n",
    "imshow(torchvision.utils.make_grid(images))\n",
    "print('GroundTruth: ', ' '.join(f'{classes[labels[j]]:5s}' for j in range(4)))"
   ]
  },
  {
   "cell_type": "code",
   "execution_count": null,
   "id": "ac581da8",
   "metadata": {},
   "outputs": [],
   "source": []
  },
  {
   "cell_type": "code",
   "execution_count": 40,
   "id": "cf564aea",
   "metadata": {},
   "outputs": [
    {
     "data": {
      "text/plain": [
       "<All keys matched successfully>"
      ]
     },
     "execution_count": 40,
     "metadata": {},
     "output_type": "execute_result"
    }
   ],
   "source": [
    "PATH = './cifar_net.pth'\n",
    "net = Net()\n",
    "net.load_state_dict(torch.load(PATH))"
   ]
  },
  {
   "cell_type": "code",
   "execution_count": 9,
   "id": "3c1309a5",
   "metadata": {},
   "outputs": [],
   "source": [
    "outputs = net(images)"
   ]
  },
  {
   "cell_type": "code",
   "execution_count": 11,
   "id": "41a75ad0",
   "metadata": {},
   "outputs": [
    {
     "data": {
      "text/plain": [
       "tensor(-1.)"
      ]
     },
     "execution_count": 11,
     "metadata": {},
     "output_type": "execute_result"
    }
   ],
   "source": [
    "images.min()"
   ]
  },
  {
   "cell_type": "code",
   "execution_count": 11,
   "id": "2664d9ad",
   "metadata": {},
   "outputs": [
    {
     "name": "stdout",
     "output_type": "stream",
     "text": [
      "Predicted:  cat   ship  plane plane\n"
     ]
    }
   ],
   "source": [
    "_, predicted = torch.max(outputs, 1)\n",
    "\n",
    "print('Predicted: ', ' '.join(f'{classes[predicted[j]]:5s}'\n",
    "                              for j in range(4)))"
   ]
  },
  {
   "cell_type": "code",
   "execution_count": 13,
   "id": "6f659620",
   "metadata": {},
   "outputs": [],
   "source": [
    "device = 'cpu'"
   ]
  },
  {
   "cell_type": "code",
   "execution_count": 14,
   "id": "bad37307",
   "metadata": {},
   "outputs": [
    {
     "name": "stdout",
     "output_type": "stream",
     "text": [
      "Accuracy for class: plane is 62.7 %\n",
      "Accuracy for class: car   is 76.6 %\n",
      "Accuracy for class: bird  is 47.3 %\n",
      "Accuracy for class: cat   is 28.6 %\n",
      "Accuracy for class: deer  is 33.9 %\n",
      "Accuracy for class: dog   is 42.0 %\n",
      "Accuracy for class: frog  is 81.5 %\n",
      "Accuracy for class: horse is 64.8 %\n",
      "Accuracy for class: ship  is 64.6 %\n",
      "Accuracy for class: truck is 53.3 %\n"
     ]
    }
   ],
   "source": [
    "# prepare to count predictions for each class\n",
    "correct_pred = {classname: 0 for classname in classes}\n",
    "total_pred = {classname: 0 for classname in classes}\n",
    "\n",
    "# again no gradients needed\n",
    "with torch.no_grad():\n",
    "    for data in testloader:\n",
    "        images, labels = data\n",
    "        outputs = net(images.to(device))\n",
    "        _, predictions = torch.max(outputs, 1)\n",
    "        # collect the correct predictions for each class\n",
    "        for label, prediction in zip(labels, predictions):\n",
    "            if label == prediction:\n",
    "                correct_pred[classes[label]] += 1\n",
    "            total_pred[classes[label]] += 1\n",
    "\n",
    "\n",
    "# print accuracy for each class\n",
    "for classname, correct_count in correct_pred.items():\n",
    "    accuracy = 100 * float(correct_count) / total_pred[classname]\n",
    "    print(f'Accuracy for class: {classname:5s} is {accuracy:.1f} %')"
   ]
  },
  {
   "cell_type": "code",
   "execution_count": 15,
   "id": "be1e0506",
   "metadata": {},
   "outputs": [
    {
     "name": "stdout",
     "output_type": "stream",
     "text": [
      "Total Accuracy: 55.5 %\n"
     ]
    }
   ],
   "source": [
    "#print accuracy of whole\n",
    "print(f'Total Accuracy: {100*sum(correct_pred.values())/sum(total_pred.values()):.1f} %')"
   ]
  },
  {
   "cell_type": "markdown",
   "id": "56685351",
   "metadata": {},
   "source": [
    "# Eigen Arithematic"
   ]
  },
  {
   "cell_type": "code",
   "execution_count": 27,
   "id": "88fddf63",
   "metadata": {},
   "outputs": [],
   "source": [
    "view_output = []\n",
    "def hook_fn(module, input, output):\n",
    "    view_output.append(output)"
   ]
  },
  {
   "cell_type": "code",
   "execution_count": 28,
   "id": "a4d59716",
   "metadata": {},
   "outputs": [
    {
     "data": {
      "text/plain": [
       "tensor([3, 5, 1, 7])"
      ]
     },
     "execution_count": 28,
     "metadata": {},
     "output_type": "execute_result"
    }
   ],
   "source": [
    "labels"
   ]
  },
  {
   "cell_type": "code",
   "execution_count": 29,
   "id": "dfe2a4e9",
   "metadata": {},
   "outputs": [
    {
     "data": {
      "text/plain": [
       "Linear(in_features=4096, out_features=10, bias=True)"
      ]
     },
     "execution_count": 29,
     "metadata": {},
     "output_type": "execute_result"
    }
   ],
   "source": [
    "net.classifier[6]"
   ]
  },
  {
   "cell_type": "code",
   "execution_count": 30,
   "id": "3c2de703",
   "metadata": {},
   "outputs": [],
   "source": [
    "class_ = 3\n",
    "images_class = []\n",
    "labels_class = []\n",
    "images_nonclass = []\n",
    "labels_nonclass = []\n",
    "\n",
    "for data in trainloader:\n",
    "    if len(images_class) == 250 and len(images_nonclass)==250:\n",
    "        break\n",
    "    images, labels = data\n",
    "    for label, image in zip(labels,images):\n",
    "        if label == class_:\n",
    "            images_class.append(image)\n",
    "            labels_class.append(label)\n",
    "        else:\n",
    "            if len(images_nonclass)<250:\n",
    "                images_nonclass.append(image)\n",
    "                labels_nonclass.append(label)\n",
    "images_class = torch.stack(images_class)\n",
    "images_nonclass = torch.stack(images_nonclass)\n",
    "\n",
    "labels_class = torch.stack(labels_class)\n",
    "labels_nonclass = torch.stack(labels_nonclass)"
   ]
  },
  {
   "cell_type": "code",
   "execution_count": 31,
   "id": "2091abe8",
   "metadata": {},
   "outputs": [
    {
     "data": {
      "text/plain": [
       "torch.Size([250, 3, 32, 32])"
      ]
     },
     "execution_count": 31,
     "metadata": {},
     "output_type": "execute_result"
    }
   ],
   "source": [
    "images_class.shape"
   ]
  },
  {
   "cell_type": "code",
   "execution_count": 32,
   "id": "6a99fc47",
   "metadata": {},
   "outputs": [
    {
     "data": {
      "text/plain": [
       "torch.Size([250, 3, 32, 32])"
      ]
     },
     "execution_count": 32,
     "metadata": {},
     "output_type": "execute_result"
    }
   ],
   "source": [
    "images_nonclass.shape"
   ]
  },
  {
   "cell_type": "code",
   "execution_count": 34,
   "id": "b9bfede5",
   "metadata": {},
   "outputs": [],
   "source": [
    "# again no gradients needed\n",
    "view_output\n",
    "hook = net.classifier[6].register_forward_hook(hook_fn)\n",
    "with torch.no_grad():\n",
    "    outputs = net(images_class.to(device))\n",
    "    _, predictions = torch.max(outputs, 1)\n",
    "hook.remove()"
   ]
  },
  {
   "cell_type": "code",
   "execution_count": 35,
   "id": "ffbf4418",
   "metadata": {},
   "outputs": [],
   "source": [
    "def visualise(images_class, idx):\n",
    "    indices = view_output[0][idx].max(1)[0].max(1)[0].topk(10)[1].numpy()\n",
    "    imshow(images_class[idx])\n",
    "    \n",
    "    channels = view_output[0][idx].unsqueeze(1)\n",
    "    \n",
    "    for i in range(channels.shape[0]):\n",
    "        channels[i] = (channels[i] - channels[i].min())/(channels[i].max() - channels[i].min())\n",
    "    imshow(torchvision.utils.make_grid(channels))"
   ]
  },
  {
   "cell_type": "code",
   "execution_count": 38,
   "id": "bf227189",
   "metadata": {},
   "outputs": [
    {
     "data": {
      "text/plain": [
       "torch.Size([250, 3, 32, 32])"
      ]
     },
     "execution_count": 38,
     "metadata": {},
     "output_type": "execute_result"
    }
   ],
   "source": [
    "images_class.shape"
   ]
  },
  {
   "cell_type": "code",
   "execution_count": 36,
   "id": "aa03100c",
   "metadata": {},
   "outputs": [
    {
     "ename": "IndexError",
     "evalue": "Dimension out of range (expected to be in range of [-1, 0], but got 1)",
     "output_type": "error",
     "traceback": [
      "\u001b[0;31m---------------------------------------------------------------------------\u001b[0m",
      "\u001b[0;31mIndexError\u001b[0m                                Traceback (most recent call last)",
      "Cell \u001b[0;32mIn [36], line 3\u001b[0m\n\u001b[1;32m      1\u001b[0m \u001b[38;5;28;01mfor\u001b[39;00m i \u001b[38;5;129;01min\u001b[39;00m \u001b[38;5;28mrange\u001b[39m(\u001b[38;5;241m10\u001b[39m):\n\u001b[1;32m      2\u001b[0m     idx \u001b[38;5;241m=\u001b[39m np\u001b[38;5;241m.\u001b[39mrandom\u001b[38;5;241m.\u001b[39mrandint(\u001b[38;5;241m200\u001b[39m)\n\u001b[0;32m----> 3\u001b[0m     \u001b[43mvisualise\u001b[49m\u001b[43m(\u001b[49m\u001b[43mimages_class\u001b[49m\u001b[43m,\u001b[49m\u001b[43m \u001b[49m\u001b[43midx\u001b[49m\u001b[43m)\u001b[49m\n",
      "Cell \u001b[0;32mIn [35], line 2\u001b[0m, in \u001b[0;36mvisualise\u001b[0;34m(images_class, idx)\u001b[0m\n\u001b[1;32m      1\u001b[0m \u001b[38;5;28;01mdef\u001b[39;00m \u001b[38;5;21mvisualise\u001b[39m(images_class, idx):\n\u001b[0;32m----> 2\u001b[0m     indices \u001b[38;5;241m=\u001b[39m \u001b[43mview_output\u001b[49m\u001b[43m[\u001b[49m\u001b[38;5;241;43m0\u001b[39;49m\u001b[43m]\u001b[49m\u001b[43m[\u001b[49m\u001b[43midx\u001b[49m\u001b[43m]\u001b[49m\u001b[38;5;241;43m.\u001b[39;49m\u001b[43mmax\u001b[49m\u001b[43m(\u001b[49m\u001b[38;5;241;43m1\u001b[39;49m\u001b[43m)\u001b[49m[\u001b[38;5;241m0\u001b[39m]\u001b[38;5;241m.\u001b[39mmax(\u001b[38;5;241m1\u001b[39m)[\u001b[38;5;241m0\u001b[39m]\u001b[38;5;241m.\u001b[39mtopk(\u001b[38;5;241m10\u001b[39m)[\u001b[38;5;241m1\u001b[39m]\u001b[38;5;241m.\u001b[39mnumpy()\n\u001b[1;32m      3\u001b[0m     imshow(images_class[idx])\n\u001b[1;32m      5\u001b[0m     channels \u001b[38;5;241m=\u001b[39m view_output[\u001b[38;5;241m0\u001b[39m][idx]\u001b[38;5;241m.\u001b[39munsqueeze(\u001b[38;5;241m1\u001b[39m)\n",
      "\u001b[0;31mIndexError\u001b[0m: Dimension out of range (expected to be in range of [-1, 0], but got 1)"
     ]
    }
   ],
   "source": [
    "for i in range(10):\n",
    "    idx = np.random.randint(200)\n",
    "    visualise(images_class, idx)"
   ]
  },
  {
   "cell_type": "markdown",
   "id": "4a6025e1",
   "metadata": {},
   "source": [
    "# Remove the direction"
   ]
  },
  {
   "cell_type": "code",
   "execution_count": 39,
   "id": "aabbbd0f",
   "metadata": {},
   "outputs": [
    {
     "data": {
      "text/plain": [
       "2"
      ]
     },
     "execution_count": 39,
     "metadata": {},
     "output_type": "execute_result"
    }
   ],
   "source": [
    "len(view_output)"
   ]
  },
  {
   "cell_type": "code",
   "execution_count": 40,
   "id": "ddf51bad",
   "metadata": {},
   "outputs": [
    {
     "data": {
      "text/plain": [
       "torch.Size([250, 10])"
      ]
     },
     "execution_count": 40,
     "metadata": {},
     "output_type": "execute_result"
    }
   ],
   "source": [
    "view_output[0].shape"
   ]
  },
  {
   "cell_type": "code",
   "execution_count": 41,
   "id": "9bf6ed27",
   "metadata": {},
   "outputs": [],
   "source": [
    "mean_direction = view_output[0].mean(0)\n",
    "view_output[0] = view_output[0] - view_output[0].mean(0)"
   ]
  },
  {
   "cell_type": "code",
   "execution_count": 42,
   "id": "39850c40",
   "metadata": {},
   "outputs": [],
   "source": [
    "torchtensor = view_output[0].flatten(1,-1)"
   ]
  },
  {
   "cell_type": "code",
   "execution_count": 43,
   "id": "2f344fda",
   "metadata": {},
   "outputs": [
    {
     "data": {
      "text/plain": [
       "torch.Size([250, 10])"
      ]
     },
     "execution_count": 43,
     "metadata": {},
     "output_type": "execute_result"
    }
   ],
   "source": [
    "torchtensor.shape"
   ]
  },
  {
   "cell_type": "code",
   "execution_count": 44,
   "id": "d05fe478",
   "metadata": {},
   "outputs": [],
   "source": [
    "u,s,v = torch.svd(torchtensor.T)"
   ]
  },
  {
   "cell_type": "code",
   "execution_count": 45,
   "id": "44007110",
   "metadata": {},
   "outputs": [],
   "source": [
    "top_eigens = 2"
   ]
  },
  {
   "cell_type": "code",
   "execution_count": 46,
   "id": "a7c1b1f0",
   "metadata": {},
   "outputs": [],
   "source": [
    "important_direction = u.T[:top_eigens]"
   ]
  },
  {
   "cell_type": "code",
   "execution_count": 47,
   "id": "62593dff",
   "metadata": {},
   "outputs": [
    {
     "data": {
      "text/plain": [
       "torch.Size([2, 10])"
      ]
     },
     "execution_count": 47,
     "metadata": {},
     "output_type": "execute_result"
    }
   ],
   "source": [
    "important_direction.shape"
   ]
  },
  {
   "cell_type": "code",
   "execution_count": 50,
   "id": "f8041abc",
   "metadata": {},
   "outputs": [
    {
     "ename": "RuntimeError",
     "evalue": "unflatten: Provided sizes [2, 10] don't multiply up to the size of dim 1 (10) in the input tensor",
     "output_type": "error",
     "traceback": [
      "\u001b[0;31m---------------------------------------------------------------------------\u001b[0m",
      "\u001b[0;31mRuntimeError\u001b[0m                              Traceback (most recent call last)",
      "Cell \u001b[0;32mIn [50], line 2\u001b[0m\n\u001b[1;32m      1\u001b[0m unflatten \u001b[38;5;241m=\u001b[39m torch\u001b[38;5;241m.\u001b[39mnn\u001b[38;5;241m.\u001b[39mUnflatten(\u001b[38;5;241m1\u001b[39m, (\u001b[38;5;241m2\u001b[39m,\u001b[38;5;241m10\u001b[39m))\n\u001b[0;32m----> 2\u001b[0m important_direction \u001b[38;5;241m=\u001b[39m \u001b[43munflatten\u001b[49m\u001b[43m(\u001b[49m\u001b[43mimportant_direction\u001b[49m\u001b[43m)\u001b[49m\n",
      "File \u001b[0;32m~/.conda/envs/pytorch/lib/python3.9/site-packages/torch/nn/modules/module.py:1130\u001b[0m, in \u001b[0;36mModule._call_impl\u001b[0;34m(self, *input, **kwargs)\u001b[0m\n\u001b[1;32m   1126\u001b[0m \u001b[38;5;66;03m# If we don't have any hooks, we want to skip the rest of the logic in\u001b[39;00m\n\u001b[1;32m   1127\u001b[0m \u001b[38;5;66;03m# this function, and just call forward.\u001b[39;00m\n\u001b[1;32m   1128\u001b[0m \u001b[38;5;28;01mif\u001b[39;00m \u001b[38;5;129;01mnot\u001b[39;00m (\u001b[38;5;28mself\u001b[39m\u001b[38;5;241m.\u001b[39m_backward_hooks \u001b[38;5;129;01mor\u001b[39;00m \u001b[38;5;28mself\u001b[39m\u001b[38;5;241m.\u001b[39m_forward_hooks \u001b[38;5;129;01mor\u001b[39;00m \u001b[38;5;28mself\u001b[39m\u001b[38;5;241m.\u001b[39m_forward_pre_hooks \u001b[38;5;129;01mor\u001b[39;00m _global_backward_hooks\n\u001b[1;32m   1129\u001b[0m         \u001b[38;5;129;01mor\u001b[39;00m _global_forward_hooks \u001b[38;5;129;01mor\u001b[39;00m _global_forward_pre_hooks):\n\u001b[0;32m-> 1130\u001b[0m     \u001b[38;5;28;01mreturn\u001b[39;00m \u001b[43mforward_call\u001b[49m\u001b[43m(\u001b[49m\u001b[38;5;241;43m*\u001b[39;49m\u001b[38;5;28;43minput\u001b[39;49m\u001b[43m,\u001b[49m\u001b[43m \u001b[49m\u001b[38;5;241;43m*\u001b[39;49m\u001b[38;5;241;43m*\u001b[39;49m\u001b[43mkwargs\u001b[49m\u001b[43m)\u001b[49m\n\u001b[1;32m   1131\u001b[0m \u001b[38;5;66;03m# Do not call functions when jit is used\u001b[39;00m\n\u001b[1;32m   1132\u001b[0m full_backward_hooks, non_full_backward_hooks \u001b[38;5;241m=\u001b[39m [], []\n",
      "File \u001b[0;32m~/.conda/envs/pytorch/lib/python3.9/site-packages/torch/nn/modules/flatten.py:138\u001b[0m, in \u001b[0;36mUnflatten.forward\u001b[0;34m(self, input)\u001b[0m\n\u001b[1;32m    137\u001b[0m \u001b[38;5;28;01mdef\u001b[39;00m \u001b[38;5;21mforward\u001b[39m(\u001b[38;5;28mself\u001b[39m, \u001b[38;5;28minput\u001b[39m: Tensor) \u001b[38;5;241m-\u001b[39m\u001b[38;5;241m>\u001b[39m Tensor:\n\u001b[0;32m--> 138\u001b[0m     \u001b[38;5;28;01mreturn\u001b[39;00m \u001b[38;5;28;43minput\u001b[39;49m\u001b[38;5;241;43m.\u001b[39;49m\u001b[43munflatten\u001b[49m\u001b[43m(\u001b[49m\u001b[38;5;28;43mself\u001b[39;49m\u001b[38;5;241;43m.\u001b[39;49m\u001b[43mdim\u001b[49m\u001b[43m,\u001b[49m\u001b[43m \u001b[49m\u001b[38;5;28;43mself\u001b[39;49m\u001b[38;5;241;43m.\u001b[39;49m\u001b[43munflattened_size\u001b[49m\u001b[43m)\u001b[49m\n",
      "File \u001b[0;32m~/.conda/envs/pytorch/lib/python3.9/site-packages/torch/_tensor.py:992\u001b[0m, in \u001b[0;36mTensor.unflatten\u001b[0;34m(self, dim, sizes)\u001b[0m\n\u001b[1;32m    990\u001b[0m \u001b[38;5;28;01mif\u001b[39;00m \u001b[38;5;28misinstance\u001b[39m(sizes, OrderedDict) \u001b[38;5;129;01mor\u001b[39;00m (\u001b[38;5;28misinstance\u001b[39m(sizes, (\u001b[38;5;28mtuple\u001b[39m, \u001b[38;5;28mlist\u001b[39m)) \u001b[38;5;129;01mand\u001b[39;00m \u001b[38;5;28misinstance\u001b[39m(sizes[\u001b[38;5;241m0\u001b[39m], (\u001b[38;5;28mtuple\u001b[39m, \u001b[38;5;28mlist\u001b[39m))):\n\u001b[1;32m    991\u001b[0m     names, sizes \u001b[38;5;241m=\u001b[39m unzip_namedshape(sizes)\n\u001b[0;32m--> 992\u001b[0m \u001b[38;5;28;01mreturn\u001b[39;00m \u001b[38;5;28;43msuper\u001b[39;49m\u001b[43m(\u001b[49m\u001b[43mTensor\u001b[49m\u001b[43m,\u001b[49m\u001b[43m \u001b[49m\u001b[38;5;28;43mself\u001b[39;49m\u001b[43m)\u001b[49m\u001b[38;5;241;43m.\u001b[39;49m\u001b[43munflatten\u001b[49m\u001b[43m(\u001b[49m\u001b[43mdim\u001b[49m\u001b[43m,\u001b[49m\u001b[43m \u001b[49m\u001b[43msizes\u001b[49m\u001b[43m,\u001b[49m\u001b[43m \u001b[49m\u001b[43mnames\u001b[49m\u001b[43m)\u001b[49m\n",
      "\u001b[0;31mRuntimeError\u001b[0m: unflatten: Provided sizes [2, 10] don't multiply up to the size of dim 1 (10) in the input tensor"
     ]
    }
   ],
   "source": [
    "unflatten = torch.nn.Unflatten(1, (2,10))\n",
    "important_direction = unflatten(important_direction)"
   ]
  },
  {
   "cell_type": "code",
   "execution_count": 51,
   "id": "14268a21",
   "metadata": {},
   "outputs": [
    {
     "data": {
      "text/plain": [
       "torch.Size([2, 10])"
      ]
     },
     "execution_count": 51,
     "metadata": {},
     "output_type": "execute_result"
    }
   ],
   "source": [
    "important_direction.shape"
   ]
  },
  {
   "cell_type": "code",
   "execution_count": 52,
   "id": "90ec7bf1",
   "metadata": {},
   "outputs": [
    {
     "ename": "LookupError",
     "evalue": "conv2",
     "output_type": "error",
     "traceback": [
      "\u001b[0;31m---------------------------------------------------------------------------\u001b[0m",
      "\u001b[0;31mLookupError\u001b[0m                               Traceback (most recent call last)",
      "Cell \u001b[0;32mIn [52], line 26\u001b[0m\n\u001b[1;32m     24\u001b[0m     \u001b[38;5;28;01mreturn\u001b[39;00m output_dup\n\u001b[1;32m     25\u001b[0m views \u001b[38;5;241m=\u001b[39m []   \n\u001b[0;32m---> 26\u001b[0m \u001b[38;5;28;01mwith\u001b[39;00m \u001b[43mTrace\u001b[49m\u001b[43m(\u001b[49m\u001b[43mnet\u001b[49m\u001b[43m,\u001b[49m\u001b[43m \u001b[49m\u001b[38;5;124;43m'\u001b[39;49m\u001b[38;5;124;43mconv2\u001b[39;49m\u001b[38;5;124;43m'\u001b[39;49m\u001b[43m,\u001b[49m\u001b[43m \u001b[49m\u001b[43medit_output\u001b[49m\u001b[38;5;241;43m=\u001b[39;49m\u001b[43mremove_directions\u001b[49m\u001b[43m)\u001b[49m \u001b[38;5;28;01mas\u001b[39;00m tr:\n\u001b[1;32m     27\u001b[0m     out \u001b[38;5;241m=\u001b[39m net(images_class)\n\u001b[1;32m     28\u001b[0m _, predict_y \u001b[38;5;241m=\u001b[39m torch\u001b[38;5;241m.\u001b[39mmax(out, \u001b[38;5;241m1\u001b[39m)\n",
      "File \u001b[0;32m~/.conda/envs/pytorch/lib/python3.9/site-packages/baukit/nethook.py:69\u001b[0m, in \u001b[0;36mTrace.__init__\u001b[0;34m(self, module, layer, retain_output, retain_input, clone, detach, retain_grad, edit_output, stop)\u001b[0m\n\u001b[1;32m     67\u001b[0m \u001b[38;5;28mself\u001b[39m\u001b[38;5;241m.\u001b[39mlayer \u001b[38;5;241m=\u001b[39m layer\n\u001b[1;32m     68\u001b[0m \u001b[38;5;28;01mif\u001b[39;00m layer \u001b[38;5;129;01mis\u001b[39;00m \u001b[38;5;129;01mnot\u001b[39;00m \u001b[38;5;28;01mNone\u001b[39;00m:\n\u001b[0;32m---> 69\u001b[0m     module \u001b[38;5;241m=\u001b[39m \u001b[43mget_module\u001b[49m\u001b[43m(\u001b[49m\u001b[43mmodule\u001b[49m\u001b[43m,\u001b[49m\u001b[43m \u001b[49m\u001b[43mlayer\u001b[49m\u001b[43m)\u001b[49m\n\u001b[1;32m     71\u001b[0m \u001b[38;5;28;01mdef\u001b[39;00m \u001b[38;5;21mretain_hook\u001b[39m(m, inputs, output):\n\u001b[1;32m     72\u001b[0m     \u001b[38;5;28;01mif\u001b[39;00m edit_output:\n",
      "File \u001b[0;32m~/.conda/envs/pytorch/lib/python3.9/site-packages/baukit/nethook.py:368\u001b[0m, in \u001b[0;36mget_module\u001b[0;34m(model, name)\u001b[0m\n\u001b[1;32m    366\u001b[0m     \u001b[38;5;28;01mif\u001b[39;00m n \u001b[38;5;241m==\u001b[39m name:\n\u001b[1;32m    367\u001b[0m         \u001b[38;5;28;01mreturn\u001b[39;00m m\n\u001b[0;32m--> 368\u001b[0m \u001b[38;5;28;01mraise\u001b[39;00m \u001b[38;5;167;01mLookupError\u001b[39;00m(name)\n",
      "\u001b[0;31mLookupError\u001b[0m: conv2"
     ]
    }
   ],
   "source": [
    "from baukit import ImageFolderSet, show, renormalize, set_requires_grad, Trace, pbar, TraceDict\n",
    "views = []\n",
    "def remove_directions(output,layer):\n",
    "#     print(output)\n",
    "    output_dup = output.detach().clone()\n",
    "    for i in range(important_direction.shape[0]):\n",
    "        for j in range(output.shape[0]):\n",
    "            magnitude = torch.norm(important_direction[i])\n",
    "            dot = torch.dot(output_dup[j], important_direction[i])\n",
    "            dot = dot/magnitude\n",
    "            mean_dot = torch.dot(mean_vector, important_direction[i])\n",
    "            mean_dot = mean_dot/magnitude\n",
    "            \n",
    "            magnitude = torch.norm(important_direction[i])\n",
    "            dot = torch.dot(output_dup[j].flatten(), important_direction[i].flatten())\n",
    "            dot = dot/magnitude\n",
    "            \n",
    "            mean_dot = torch.dot(mean_direction.flatten(), important_direction[i].flatten())\n",
    "            mean_dot = dot/magnitude\n",
    "            \n",
    "            output_dup[j] = output_dup[j] - important_direction[i]*dot + important_direction[i]*mean_dot\n",
    "#     print(output_dup)\n",
    "    views.append(output_dup)\n",
    "    return output_dup\n",
    "views = []   \n",
    "with Trace(net, 'conv2', edit_output=remove_directions) as tr:\n",
    "    out = net(images_class)\n",
    "_, predict_y = torch.max(out, 1)"
   ]
  },
  {
   "cell_type": "code",
   "execution_count": null,
   "id": "d80e1e6b",
   "metadata": {},
   "outputs": [],
   "source": [
    "predict_y"
   ]
  },
  {
   "cell_type": "code",
   "execution_count": null,
   "id": "75d062df",
   "metadata": {},
   "outputs": [],
   "source": [
    "(predict_y == labels_class).sum()/len(labels_class)"
   ]
  },
  {
   "cell_type": "code",
   "execution_count": null,
   "id": "3ec69173",
   "metadata": {},
   "outputs": [],
   "source": [
    "out = net(images_class)\n",
    "_, predict_y = torch.max(out, 1)\n",
    "predict_y"
   ]
  },
  {
   "cell_type": "code",
   "execution_count": null,
   "id": "ab54d4f0",
   "metadata": {},
   "outputs": [],
   "source": [
    "(predict_y == labels_class).sum()/len(labels_class)"
   ]
  },
  {
   "cell_type": "code",
   "execution_count": null,
   "id": "3dbdbe2a",
   "metadata": {},
   "outputs": [],
   "source": [
    "labels_class"
   ]
  },
  {
   "cell_type": "code",
   "execution_count": null,
   "id": "1d7852cb",
   "metadata": {},
   "outputs": [],
   "source": [
    "from baukit import ImageFolderSet, show, renormalize, set_requires_grad, Trace, pbar, TraceDict\n",
    "views = []\n",
    "def remove_directions(output,layer):\n",
    "#     print(output)\n",
    "    output_dup = output.detach().clone()\n",
    "    for i in range(important_direction.shape[0]):\n",
    "        for j in range(output.shape[0]):\n",
    "            dot = torch.dot(output_dup[j].flatten(), important_direction[i].flatten())\n",
    "            output_dup[j] = output_dup[j] - important_direction[i]*dot\n",
    "#     print(output_dup)\n",
    "    views.append(output_dup)\n",
    "    return output_dup\n",
    "views = []   \n",
    "with Trace(net, 'conv2', edit_output=remove_directions) as tr:\n",
    "    out = net(images_nonclass)\n",
    "_, predict_y = torch.max(out, 1)"
   ]
  },
  {
   "cell_type": "code",
   "execution_count": null,
   "id": "0bf20aca",
   "metadata": {},
   "outputs": [],
   "source": [
    "predict_y"
   ]
  },
  {
   "cell_type": "code",
   "execution_count": null,
   "id": "5d2ca2d2",
   "metadata": {},
   "outputs": [],
   "source": [
    "(predict_y == labels_nonclass).sum()/len(labels_nonclass)"
   ]
  },
  {
   "cell_type": "code",
   "execution_count": null,
   "id": "6cad3d5c",
   "metadata": {},
   "outputs": [],
   "source": [
    "out = net(images_nonclass)\n",
    "_, predict_y = torch.max(out, 1)\n",
    "predict_y"
   ]
  },
  {
   "cell_type": "code",
   "execution_count": null,
   "id": "db694d16",
   "metadata": {},
   "outputs": [],
   "source": [
    "(predict_y == labels_nonclass).sum()/len(labels_nonclass)"
   ]
  },
  {
   "cell_type": "code",
   "execution_count": null,
   "id": "8a31e910",
   "metadata": {},
   "outputs": [],
   "source": [
    "# prepare to count predictions for each class\n",
    "correct_pred = {classname: 0 for classname in classes}\n",
    "total_pred = {classname: 0 for classname in classes}\n",
    "\n",
    "# again no gradients needed\n",
    "with torch.no_grad():\n",
    "    for data in testloader:\n",
    "        images, labels = data\n",
    "        views = []\n",
    "        with Trace(net, 'conv2', edit_output=remove_directions) as tr:\n",
    "            outputs = net(images)\n",
    "        _, predictions = torch.max(outputs, 1)\n",
    "        # collect the correct predictions for each class\n",
    "        for label, prediction in zip(labels, predictions):\n",
    "            if label == prediction:\n",
    "                correct_pred[classes[label]] += 1\n",
    "            total_pred[classes[label]] += 1\n",
    "\n",
    "\n",
    "# print accuracy for each class\n",
    "for classname, correct_count in correct_pred.items():\n",
    "    accuracy = 100 * float(correct_count) / total_pred[classname]\n",
    "    print(f'Accuracy for class: {classname:5s} is {accuracy:.1f} %')"
   ]
  },
  {
   "cell_type": "code",
   "execution_count": null,
   "id": "0a544956",
   "metadata": {},
   "outputs": [],
   "source": [
    "# prepare to count predictions for each class\n",
    "correct_pred = {classname: 0 for classname in classes}\n",
    "total_pred = {classname: 0 for classname in classes}\n",
    "\n",
    "# again no gradients needed\n",
    "with torch.no_grad():\n",
    "    for data in testloader:\n",
    "        images, labels = data\n",
    "        views = []\n",
    "        outputs = net(images)\n",
    "        _, predictions = torch.max(outputs, 1)\n",
    "        # collect the correct predictions for each class\n",
    "        for label, prediction in zip(labels, predictions):\n",
    "            if label == prediction:\n",
    "                correct_pred[classes[label]] += 1\n",
    "            total_pred[classes[label]] += 1\n",
    "\n",
    "\n",
    "# print accuracy for each class\n",
    "for classname, correct_count in correct_pred.items():\n",
    "    accuracy = 100 * float(correct_count) / total_pred[classname]\n",
    "    print(f'Accuracy for class: {classname:5s} is {accuracy:.1f} %')"
   ]
  },
  {
   "cell_type": "code",
   "execution_count": null,
   "id": "1d9e1281",
   "metadata": {},
   "outputs": [],
   "source": [
    "a_big = torch.randn(7, 16)\n",
    "u, s, v = torch.svd(a_big)"
   ]
  },
  {
   "cell_type": "code",
   "execution_count": null,
   "id": "7fa5f690",
   "metadata": {},
   "outputs": [],
   "source": [
    "a_big.shape"
   ]
  },
  {
   "cell_type": "code",
   "execution_count": null,
   "id": "abeb9616",
   "metadata": {},
   "outputs": [],
   "source": [
    "u.shape"
   ]
  },
  {
   "cell_type": "code",
   "execution_count": null,
   "id": "e0b8d5d1",
   "metadata": {},
   "outputs": [],
   "source": [
    "s.shape"
   ]
  },
  {
   "cell_type": "code",
   "execution_count": null,
   "id": "60243420",
   "metadata": {},
   "outputs": [],
   "source": [
    "v.shape"
   ]
  },
  {
   "cell_type": "markdown",
   "id": "80bd9970",
   "metadata": {},
   "source": [
    "# Consolidated function"
   ]
  },
  {
   "cell_type": "code",
   "execution_count": null,
   "id": "1d53ff5a",
   "metadata": {},
   "outputs": [],
   "source": []
  },
  {
   "cell_type": "code",
   "execution_count": 41,
   "id": "5f12d03d",
   "metadata": {},
   "outputs": [
    {
     "name": "stdout",
     "output_type": "stream",
     "text": [
      "Files already downloaded and verified\n",
      "Files already downloaded and verified\n"
     ]
    },
    {
     "data": {
      "text/plain": [
       "<All keys matched successfully>"
      ]
     },
     "execution_count": 41,
     "metadata": {},
     "output_type": "execute_result"
    }
   ],
   "source": [
    "import torch\n",
    "import torchvision\n",
    "import torchvision.transforms as transforms\n",
    "from baukit import ImageFolderSet, show, renormalize, set_requires_grad, Trace, pbar, TraceDict\n",
    "import matplotlib.pyplot as plt\n",
    "import numpy as np\n",
    "import torch.nn as nn\n",
    "import torch.nn.functional as F\n",
    "import torch.multiprocessing\n",
    "torch.multiprocessing.set_sharing_strategy('file_system')\n",
    "\n",
    "transform = transforms.Compose(\n",
    "    [transforms.ToTensor(),\n",
    "     transforms.Normalize((0.5, 0.5, 0.5), (0.5, 0.5, 0.5))])\n",
    "\n",
    "batch_size = 4\n",
    "\n",
    "trainset = torchvision.datasets.CIFAR10(root='./data', train=True,\n",
    "                                        download=True, transform=transform)\n",
    "trainloader = torch.utils.data.DataLoader(trainset, batch_size=batch_size,\n",
    "                                          shuffle=True, num_workers=2)\n",
    "\n",
    "testset = torchvision.datasets.CIFAR10(root='./data', train=False,\n",
    "                                       download=True, transform=transform)\n",
    "testloader = torch.utils.data.DataLoader(testset, batch_size=batch_size,\n",
    "                                         shuffle=False, num_workers=2)\n",
    "\n",
    "classes = ('plane', 'car', 'bird', 'cat',\n",
    "           'deer', 'dog', 'frog', 'horse', 'ship', 'truck')\n",
    "\n",
    "\n",
    "\n",
    "# functions to show an image\n",
    "\n",
    "\n",
    "def imshow(img):\n",
    "    img = img / 2 + 0.5     # unnormalize\n",
    "    npimg = img.numpy()\n",
    "    plt.imshow(np.transpose(npimg, (1, 2, 0)))\n",
    "    plt.show()\n",
    "\n",
    "\n",
    "\n",
    "\n",
    "class Net(nn.Module):\n",
    "    def __init__(self):\n",
    "        super().__init__()\n",
    "        self.conv1 = nn.Conv2d(3, 6, 5)\n",
    "        self.pool = nn.MaxPool2d(2, 2)\n",
    "        self.conv2 = nn.Conv2d(6, 16, 5)\n",
    "        self.fc1 = nn.Linear(16 * 5 * 5, 120)\n",
    "        self.fc2 = nn.Linear(120, 84)\n",
    "        self.fc3 = nn.Linear(84, 10)\n",
    "        self.softmax = nn.Softmax(dim=1)\n",
    "\n",
    "    def forward(self, x):\n",
    "        x = self.pool(F.relu(self.conv1(x)))\n",
    "        x = self.pool(F.relu(self.conv2(x)))\n",
    "        x = torch.flatten(x, 1) # flatten all dimensions except batch\n",
    "        x = F.relu(self.fc1(x))\n",
    "        x = F.relu(self.fc2(x))\n",
    "        x = self.fc3(x)\n",
    "#         x = self.softmax(x)\n",
    "        return x\n",
    "\n",
    "\n",
    "net = Net()\n",
    "PATH = './cifar_net.pth'\n",
    "net = Net()\n",
    "net.load_state_dict(torch.load(PATH))"
   ]
  },
  {
   "cell_type": "code",
   "execution_count": 42,
   "id": "04a8e5cd",
   "metadata": {},
   "outputs": [],
   "source": [
    "def get_data_class(class_,trainloader):\n",
    "    images_class = []\n",
    "    labels_class = []\n",
    "    images_nonclass = []\n",
    "    labels_nonclass = []\n",
    "\n",
    "    for data in trainloader:\n",
    "        if len(images_class) == 250 and len(images_nonclass)==250:\n",
    "            break\n",
    "        images, labels = data\n",
    "        for label, image in zip(labels,images):\n",
    "            if label == class_:\n",
    "                images_class.append(image)\n",
    "                labels_class.append(label)\n",
    "            else:\n",
    "                if len(images_nonclass)<250:\n",
    "                    images_nonclass.append(image)\n",
    "                    labels_nonclass.append(label)\n",
    "    try:\n",
    "        images_class = torch.stack(images_class)\n",
    "        labels_class = torch.stack(labels_class)\n",
    "    except:\n",
    "        pass\n",
    "\n",
    "    \n",
    "    images_nonclass = torch.stack(images_nonclass)\n",
    "    labels_nonclass = torch.stack(labels_nonclass)\n",
    "    del(data)\n",
    "    return images_class, images_nonclass, labels_class, labels_nonclass\n",
    "\n",
    "def eval_top_eigens(class_idx, top_eigens, trainloader, testloader):\n",
    "#     print('Reading')\n",
    "    images_class, images_nonclass, labels_class, labels_nonclass = get_data_class(class_idx, trainloader)\n",
    "#     print('Done')\n",
    "    view_output = []\n",
    "    def hook_fn(module, input, output):\n",
    "        view_output.append(output)\n",
    "\n",
    "    # again no gradients needed\n",
    "    view_output = []\n",
    "    hook = net.conv2.register_forward_hook(hook_fn)\n",
    "    with torch.no_grad():\n",
    "        outputs = net(images_class)\n",
    "        _, predictions = torch.max(outputs, 1)\n",
    "    hook.remove()\n",
    "    torchtensor = view_output[0]#.max(2)[0].max(2)[0]\n",
    "    view_output[0] = view_output[0] - view_output[0].mean(0)\n",
    "    \n",
    "    torchtensor = view_output[0].flatten(1,-1)\n",
    "    \n",
    "    u,s,v = torch.svd(torchtensor.T)\n",
    "    \n",
    "    important_direction = u.T[:top_eigens]\n",
    "    unflatten = torch.nn.Unflatten(1, (16,10,10))\n",
    "    important_direction = unflatten(important_direction)\n",
    "    \n",
    "#     print(f'Removing Eigen Directions of class: {classes[class_idx]}')\n",
    "    removing_object = classes[class_idx]\n",
    "    def remove_directions(output,layer):\n",
    "        output_dup = output.detach().clone()\n",
    "        for i in range(important_direction.shape[0]):\n",
    "            for j in range(output.shape[0]):\n",
    "                dot = torch.dot(output[j].flatten(), important_direction[i].flatten())\n",
    "                output_dup[j] = output_dup[j] - important_direction[i]*dot\n",
    "        return output_dup\n",
    "    # prepare to count predictions for each class\n",
    "    correct_pred = {classname: 0 for classname in classes}\n",
    "    total_pred = {classname: 0 for classname in classes}\n",
    "    # prepare to count predictions for each class\n",
    "    correct_pred_edited = {classname: 0 for classname in classes}\n",
    "    total_pred_edited = {classname: 0 for classname in classes}\n",
    "    # again no gradients needed\n",
    "    with torch.no_grad():\n",
    "        for data in testloader:\n",
    "            images, labels = data\n",
    "            outputs = net(images)\n",
    "            _, predictions = torch.max(outputs, 1)\n",
    "            # collect the correct predictions for each class\n",
    "            for label, prediction in zip(labels, predictions):\n",
    "                if label == prediction:\n",
    "                    correct_pred[classes[label]] += 1\n",
    "                total_pred[classes[label]] += 1\n",
    "            # get edited scores\n",
    "            with Trace(net, 'conv2', edit_output=remove_directions) as tr:\n",
    "                outputs_ = net(images)\n",
    "            _, predictions_ = torch.max(outputs_, 1)\n",
    "            # collect the correct predictions for each class\n",
    "            for label, prediction in zip(labels, predictions_):\n",
    "                if label == prediction:\n",
    "                    correct_pred_edited[classes[label]] += 1\n",
    "                total_pred_edited[classes[label]] += 1\n",
    "\n",
    "\n",
    "#     # print accuracy for each class\n",
    "#     for original, edited in zip(correct_pred.items(),correct_pred_edited.items()):\n",
    "#         accuracy_original = 100 * float(original[1]) / total_pred[original[0]]\n",
    "#         accuracy_edited = 100 * float(edited[1]) / total_pred[edited[0]]\n",
    "#         perc_changed = (accuracy_original - accuracy_edited)\n",
    "#         print(f'Accuracy for class: {original[0]:5s} \\t Original {accuracy_original:.1f} % \\t Edited {accuracy_edited:.1f} % \\t Change {perc_changed:.1f} %')\n",
    "    accs = []\n",
    "    cls = []\n",
    "    for original, edited in zip(correct_pred.items(),correct_pred_edited.items()):\n",
    "        accuracy_original = 100 * float(original[1]) / total_pred[original[0]]\n",
    "        accuracy_edited = 100 * float(edited[1]) / total_pred[edited[0]]\n",
    "        perc_changed = (accuracy_original - accuracy_edited)\n",
    "        accs.append(f'{perc_changed:.1f}')\n",
    "        cls.append(original[0])\n",
    "#         print(f'Accuracy for class: {original[0]:5s} \\t Original {accuracy_original:.1f} % \\t Edited {accuracy_edited:.1f} % \\t Change {perc_changed:.1f} %')\n",
    "    text = f'{removing_object} '\n",
    "    for a in accs:\n",
    "        text+=f'& {a} '\n",
    "    print(text + ' \\\\\\\\')\n",
    "    del images_class, images_nonclass, labels_class, labels_nonclass"
   ]
  },
  {
   "cell_type": "markdown",
   "id": "a695371f",
   "metadata": {},
   "source": [
    "# Updated"
   ]
  },
  {
   "cell_type": "code",
   "execution_count": 43,
   "id": "d70636ce",
   "metadata": {},
   "outputs": [],
   "source": [
    "def get_data_class(class_,trainloader):\n",
    "    images_class = []\n",
    "    labels_class = []\n",
    "    images_nonclass = []\n",
    "    labels_nonclass = []\n",
    "\n",
    "    for data in trainloader:\n",
    "        if len(images_class) == 250 and len(images_nonclass)==250:\n",
    "            break\n",
    "        images, labels = data\n",
    "        for label, image in zip(labels,images):\n",
    "            if label == class_:\n",
    "                images_class.append(image)\n",
    "                labels_class.append(label)\n",
    "            else:\n",
    "                if len(images_nonclass)<250:\n",
    "                    images_nonclass.append(image)\n",
    "                    labels_nonclass.append(label)\n",
    "    try:\n",
    "        images_class = torch.stack(images_class)\n",
    "        labels_class = torch.stack(labels_class)\n",
    "    except:\n",
    "        pass\n",
    "\n",
    "    \n",
    "    images_nonclass = torch.stack(images_nonclass)\n",
    "    labels_nonclass = torch.stack(labels_nonclass)\n",
    "    del(data)\n",
    "    return images_class, images_nonclass, labels_class, labels_nonclass\n",
    "\n",
    "def eval_top_eigens(class_idx, top_eigens, trainloader, testloader):\n",
    "#     print('Reading')\n",
    "    images_class, images_nonclass, labels_class, labels_nonclass = get_data_class(class_idx, trainloader)\n",
    "#     print('Done')\n",
    "    view_output = []\n",
    "    def hook_fn(module, input, output):\n",
    "        view_output.append(output)\n",
    "    \n",
    "    # again no gradients needed\n",
    "    view_output = []\n",
    "    hook = net.conv2.register_forward_hook(hook_fn)\n",
    "    with torch.no_grad():\n",
    "        outputs = net(images_nonclass)\n",
    "    hook.remove()\n",
    "    torchtensor_nonclass = view_output[0]\n",
    "    \n",
    "    # again no gradients needed\n",
    "    view_output = []\n",
    "    hook = net.conv2.register_forward_hook(hook_fn)\n",
    "    with torch.no_grad():\n",
    "        outputs = net(images_class)\n",
    "        _, predictions = torch.max(outputs, 1)\n",
    "    hook.remove()\n",
    "    torchtensor = view_output[0]#.max(2)[0].max(2)[0]\n",
    "    mean_direction = torch.cat([torchtensor_nonclass, torchtensor]).mean(0)\n",
    "    \n",
    "    view_output[0] = view_output[0] - view_output[0].mean(0)\n",
    "    \n",
    "    torchtensor = view_output[0].flatten(1,-1)\n",
    "    \n",
    "    u,s,v = torch.svd(torchtensor.T)\n",
    "    \n",
    "    important_direction = u.T[:top_eigens]\n",
    "    unflatten = torch.nn.Unflatten(1, (16,10,10))\n",
    "    important_direction = unflatten(important_direction)\n",
    "    removing_object = classes[class_idx]\n",
    "#     print(f'Removing Eigen Directions of class: {classes[class_idx]}')\n",
    "    def remove_directions(output,layer):\n",
    "        output_dup = output.detach().clone()\n",
    "        for i in range(important_direction.shape[0]):\n",
    "            for j in range(output.shape[0]):\n",
    "                magnitude = torch.norm(important_direction[i])\n",
    "                mean_dot = torch.dot(mean_direction.flatten(), important_direction[i].flatten())\n",
    "                mean_dot = mean_dot/magnitude\n",
    "                dot = torch.dot(output[j].flatten(), important_direction[i].flatten())\n",
    "                dot = dot/magnitude\n",
    "                output_dup[j] = output_dup[j] - important_direction[i]*dot + important_direction[i]*mean_dot\n",
    "        return output_dup\n",
    "    # prepare to count predictions for each class\n",
    "    correct_pred = {classname: 0 for classname in classes}\n",
    "    total_pred = {classname: 0 for classname in classes}\n",
    "    # prepare to count predictions for each class\n",
    "    correct_pred_edited = {classname: 0 for classname in classes}\n",
    "    total_pred_edited = {classname: 0 for classname in classes}\n",
    "    # again no gradients needed\n",
    "    with torch.no_grad():\n",
    "        for data in testloader:\n",
    "            images, labels = data\n",
    "            outputs = net(images)\n",
    "            _, predictions = torch.max(outputs, 1)\n",
    "            # collect the correct predictions for each class\n",
    "            for label, prediction in zip(labels, predictions):\n",
    "                if label == prediction:\n",
    "                    correct_pred[classes[label]] += 1\n",
    "                total_pred[classes[label]] += 1\n",
    "            # get edited scores\n",
    "            with Trace(net, 'conv2', edit_output=remove_directions) as tr:\n",
    "                outputs_ = net(images)\n",
    "            _, predictions_ = torch.max(outputs_, 1)\n",
    "            # collect the correct predictions for each class\n",
    "            for label, prediction in zip(labels, predictions_):\n",
    "                if label == prediction:\n",
    "                    correct_pred_edited[classes[label]] += 1\n",
    "                total_pred_edited[classes[label]] += 1\n",
    "\n",
    "\n",
    "    # print accuracy for each class\n",
    "    accs = []\n",
    "    cls = []\n",
    "    for original, edited in zip(correct_pred.items(),correct_pred_edited.items()):\n",
    "        accuracy_original = 100 * float(original[1]) / total_pred[original[0]]\n",
    "        accuracy_edited = 100 * float(edited[1]) / total_pred[edited[0]]\n",
    "        perc_changed = (accuracy_original - accuracy_edited)\n",
    "        accs.append(f'{perc_changed:.1f}')\n",
    "        cls.append(original[0])\n",
    "#         print(f'Accuracy for class: {original[0]:5s} \\t Original {accuracy_original:.1f} % \\t Edited {accuracy_edited:.1f} % \\t Change {perc_changed:.1f} %')\n",
    "    text = f'{removing_object} '\n",
    "    for a in accs:\n",
    "        text+=f'& {a} '\n",
    "    print(text + ' \\\\\\\\')\n",
    "#     print(cls)\n",
    "        \n",
    "    del images_class, images_nonclass, labels_class, labels_nonclass"
   ]
  },
  {
   "cell_type": "markdown",
   "id": "5362f1c9",
   "metadata": {},
   "source": [
    "# Top 1 Eigen Vectors"
   ]
  },
  {
   "cell_type": "code",
   "execution_count": 44,
   "id": "84ce56e8",
   "metadata": {
    "scrolled": false
   },
   "outputs": [
    {
     "name": "stdout",
     "output_type": "stream",
     "text": [
      "plane & 4.3 & -1.7 & 6.1 & 2.1 & 5.5 & 23.2 & 26.2 & 18.0 & 0.0 & 0.1  \\\\\n",
      "car & 9.3 & 0.3 & -8.0 & 10.8 & 4.9 & 15.7 & 23.1 & 7.1 & 0.0 & -3.1  \\\\\n",
      "bird & 18.8 & -3.4 & -1.7 & -1.4 & 3.8 & 11.2 & 15.9 & 3.0 & 14.5 & -5.6  \\\\\n",
      "cat & 36.7 & 1.8 & 1.6 & -2.5 & -0.6 & 3.9 & 7.3 & -3.4 & 4.3 & 2.9  \\\\\n",
      "deer & 27.8 & 2.8 & 1.8 & -0.4 & 3.0 & 4.9 & 18.5 & -1.8 & 16.9 & -2.4  \\\\\n",
      "dog & -0.5 & -0.5 & -2.7 & -4.0 & 5.5 & 7.4 & 2.0 & 1.5 & -0.1 & 4.5  \\\\\n",
      "frog & 22.1 & 2.1 & -1.2 & -1.8 & 4.1 & -0.8 & 2.4 & -0.8 & -4.7 & 0.9  \\\\\n",
      "horse & -2.0 & -1.0 & 0.3 & -1.4 & 0.2 & 0.1 & -1.3 & 2.9 & 5.5 & -2.8  \\\\\n",
      "ship & 3.2 & -2.3 & 10.6 & 14.8 & 8.9 & 29.4 & 29.3 & 18.7 & 1.4 & -0.7  \\\\\n",
      "truck & 7.8 & 2.2 & -5.4 & 11.6 & 3.7 & 18.1 & 24.3 & 7.7 & 0.7 & -4.6  \\\\\n"
     ]
    }
   ],
   "source": [
    "for i in range(10):\n",
    "    eval_top_eigens(class_idx = i, top_eigens = 1,trainloader=trainloader,testloader=testloader)\n",
    "#     print('---------------------------------------------------------------')"
   ]
  },
  {
   "cell_type": "markdown",
   "id": "f09fe81c",
   "metadata": {},
   "source": [
    "# Top 3 Eigen Vectors"
   ]
  },
  {
   "cell_type": "code",
   "execution_count": 21,
   "id": "712f3a64",
   "metadata": {},
   "outputs": [
    {
     "name": "stdout",
     "output_type": "stream",
     "text": [
      "plane & 6.8 & 8.1 & 24.6 & 25.8 & 29.0 & 33.9 & 31.4 & 24.0 & -0.9 & -2.3  \\\\\n",
      "car & 16.7 & 7.4 & 18.1 & 14.6 & 5.3 & 23.5 & 32.1 & 15.5 & 2.9 & -6.6  \\\\\n",
      "bird & 24.7 & 17.8 & 10.1 & -3.3 & 3.4 & 15.3 & 25.1 & 1.3 & 13.3 & -7.5  \\\\\n",
      "cat & 41.5 & 14.3 & 14.5 & -11.0 & 5.5 & 8.7 & 12.3 & -2.6 & 35.5 & 1.4  \\\\\n",
      "deer & 30.3 & 10.9 & 3.2 & 2.2 & 1.6 & 14.9 & 17.9 & 1.4 & 28.5 & -7.0  \\\\\n",
      "dog & 17.0 & 0.2 & 12.1 & -6.7 & 2.0 & 16.0 & 8.2 & 1.0 & 22.4 & -4.6  \\\\\n",
      "frog & 36.3 & 35.1 & 10.2 & 2.4 & 6.6 & 6.4 & 10.0 & -1.1 & 15.1 & -7.4  \\\\\n",
      "horse & 12.7 & 5.2 & 7.8 & 3.7 & -0.5 & 6.5 & 21.0 & 7.4 & 8.8 & -4.8  \\\\\n",
      "ship & -1.6 & 3.6 & 23.2 & 25.2 & 48.3 & 31.7 & 32.0 & 30.6 & 7.1 & -4.2  \\\\\n",
      "truck & 15.3 & 8.5 & 16.0 & 17.7 & 24.6 & 23.4 & 31.4 & 12.9 & -1.1 & -2.2  \\\\\n"
     ]
    }
   ],
   "source": [
    "for i in range(10):\n",
    "    eval_top_eigens(class_idx = i, top_eigens = 5,trainloader=trainloader,testloader=testloader)\n",
    "#     print('---------------------------------------------------------------')"
   ]
  },
  {
   "cell_type": "markdown",
   "id": "e8563745",
   "metadata": {},
   "source": [
    "# Top 5 Eigen Vectors"
   ]
  },
  {
   "cell_type": "code",
   "execution_count": 22,
   "id": "852c9362",
   "metadata": {},
   "outputs": [
    {
     "name": "stdout",
     "output_type": "stream",
     "text": [
      "plane & 11.0 & 4.4 & 20.3 & 21.0 & 29.5 & 28.3 & 32.1 & 27.2 & -3.2 & -1.3  \\\\\n",
      "---------------------------------------------------------------\n",
      "car & 11.5 & 6.4 & 11.4 & 16.2 & 18.6 & 21.4 & 31.8 & 17.8 & -1.0 & -1.5  \\\\\n",
      "---------------------------------------------------------------\n",
      "bird & 25.2 & 10.5 & 4.8 & -3.7 & 2.4 & 14.5 & 23.7 & 1.9 & 9.0 & -5.7  \\\\\n",
      "---------------------------------------------------------------\n",
      "cat & 17.6 & -0.5 & -0.9 & -2.1 & -1.3 & 12.9 & 19.6 & 2.8 & 16.4 & -6.7  \\\\\n",
      "---------------------------------------------------------------\n",
      "deer & 30.8 & 7.6 & 4.2 & 5.2 & 3.1 & 18.1 & 21.1 & 0.1 & 7.5 & -1.9  \\\\\n",
      "---------------------------------------------------------------\n",
      "dog & 34.1 & 3.7 & 11.5 & -9.7 & 5.6 & 1.3 & 10.0 & -2.3 & 28.1 & 4.2  \\\\\n",
      "---------------------------------------------------------------\n",
      "frog & 51.9 & 44.2 & 4.2 & -6.8 & -2.8 & 0.7 & -3.1 & -2.6 & 48.1 & 16.7  \\\\\n",
      "---------------------------------------------------------------\n",
      "horse & 21.6 & -2.4 & 2.9 & 2.5 & 0.6 & 8.7 & 16.2 & 1.5 & 12.3 & -2.7  \\\\\n",
      "---------------------------------------------------------------\n",
      "ship & 0.2 & -0.9 & 25.2 & 31.6 & 50.6 & 36.1 & 32.5 & 45.1 & -5.5 & 12.2  \\\\\n",
      "---------------------------------------------------------------\n",
      "truck & 10.2 & 0.7 & 7.6 & 21.0 & 11.6 & 24.9 & 30.9 & 5.2 & 5.1 & -4.2  \\\\\n",
      "---------------------------------------------------------------\n"
     ]
    }
   ],
   "source": [
    "for i in range(10):\n",
    "    eval_top_eigens(class_idx = i, top_eigens = 3,trainloader=trainloader,testloader=testloader)\n",
    "    print('---------------------------------------------------------------')"
   ]
  },
  {
   "cell_type": "markdown",
   "id": "8cf5c141",
   "metadata": {},
   "source": [
    "# Consolidated function to edit FC layer"
   ]
  },
  {
   "cell_type": "code",
   "execution_count": 47,
   "id": "4ae79af6",
   "metadata": {},
   "outputs": [],
   "source": [
    "net = model"
   ]
  },
  {
   "cell_type": "code",
   "execution_count": 31,
   "id": "1e5beb8a",
   "metadata": {},
   "outputs": [
    {
     "name": "stdout",
     "output_type": "stream",
     "text": [
      "Files already downloaded and verified\n",
      "Files already downloaded and verified\n"
     ]
    }
   ],
   "source": [
    "import torch\n",
    "import torchvision\n",
    "import torchvision.transforms as transforms\n",
    "from baukit import ImageFolderSet, show, renormalize, set_requires_grad, Trace, pbar, TraceDict\n",
    "import matplotlib.pyplot as plt\n",
    "import numpy as np\n",
    "import torch.nn as nn\n",
    "import torch.nn.functional as F\n",
    "import torch.multiprocessing\n",
    "torch.multiprocessing.set_sharing_strategy('file_system')\n",
    "\n",
    "transform = transforms.Compose(\n",
    "    [transforms.ToTensor(),\n",
    "     transforms.Normalize((0.5, 0.5, 0.5), (0.5, 0.5, 0.5))])\n",
    "\n",
    "batch_size = 4\n",
    "\n",
    "trainset = torchvision.datasets.CIFAR10(root='./data', train=True,\n",
    "                                        download=True, transform=transform)\n",
    "trainloader = torch.utils.data.DataLoader(trainset, batch_size=batch_size,\n",
    "                                          shuffle=True, num_workers=2)\n",
    "\n",
    "testset = torchvision.datasets.CIFAR10(root='./data', train=False,\n",
    "                                       download=True, transform=transform)\n",
    "testloader = torch.utils.data.DataLoader(testset, batch_size=batch_size,\n",
    "                                         shuffle=False, num_workers=2)\n",
    "\n",
    "classes = ('plane', 'car', 'bird', 'cat',\n",
    "           'deer', 'dog', 'frog', 'horse', 'ship', 'truck')\n",
    "\n",
    "\n",
    "\n",
    "# functions to show an image\n",
    "\n",
    "\n",
    "def imshow(img):\n",
    "    img = img / 2 + 0.5     # unnormalize\n",
    "    npimg = img.numpy()\n",
    "    plt.imshow(np.transpose(npimg, (1, 2, 0)))\n",
    "    plt.show()\n",
    "\n",
    "\n",
    "\n",
    "\n",
    "# class Net(nn.Module):\n",
    "#     def __init__(self):\n",
    "#         super().__init__()\n",
    "#         self.conv1 = nn.Conv2d(3, 6, 5)\n",
    "#         self.pool = nn.MaxPool2d(2, 2)\n",
    "#         self.conv2 = nn.Conv2d(6, 16, 5)\n",
    "#         self.fc1 = nn.Linear(16 * 5 * 5, 120)\n",
    "#         self.fc2 = nn.Linear(120, 84)\n",
    "#         self.fc3 = nn.Linear(84, 10)\n",
    "#         self.softmax = nn.Softmax(dim=1)\n",
    "\n",
    "#     def forward(self, x):\n",
    "#         x = self.pool(F.relu(self.conv1(x)))\n",
    "#         x = self.pool(F.relu(self.conv2(x)))\n",
    "#         x = torch.flatten(x, 1) # flatten all dimensions except batch\n",
    "#         x = F.relu(self.fc1(x))\n",
    "#         x = F.relu(self.fc2(x))\n",
    "#         x = self.fc3(x)\n",
    "# #         x = self.softmax(x)\n",
    "#         return x\n",
    "\n",
    "\n",
    "# net = Net()\n",
    "# PATH = './cifar_net.pth'\n",
    "# net = Net()\n",
    "# net.load_state_dict(torch.load(PATH))"
   ]
  },
  {
   "cell_type": "markdown",
   "id": "10f78594",
   "metadata": {},
   "source": [
    "# Updated"
   ]
  },
  {
   "cell_type": "code",
   "execution_count": 32,
   "id": "48f9f63a",
   "metadata": {},
   "outputs": [],
   "source": [
    "def get_data_class(class_,trainloader):\n",
    "    images_class = []\n",
    "    labels_class = []\n",
    "    images_nonclass = []\n",
    "    labels_nonclass = []\n",
    "\n",
    "    for data in trainloader:\n",
    "        if len(images_class) == 250 and len(images_nonclass)==250:\n",
    "            break\n",
    "        images, labels = data\n",
    "        for label, image in zip(labels,images):\n",
    "            if label == class_:\n",
    "                images_class.append(image)\n",
    "                labels_class.append(label)\n",
    "            else:\n",
    "                if len(images_nonclass)<250:\n",
    "                    images_nonclass.append(image)\n",
    "                    labels_nonclass.append(label)\n",
    "    try:\n",
    "        images_class = torch.stack(images_class)\n",
    "        labels_class = torch.stack(labels_class)\n",
    "    except:\n",
    "        pass\n",
    "\n",
    "    \n",
    "    images_nonclass = torch.stack(images_nonclass)\n",
    "    labels_nonclass = torch.stack(labels_nonclass)\n",
    "    del(data)\n",
    "    return images_class, images_nonclass, labels_class, labels_nonclass\n",
    "\n",
    "def eval_top_eigens(class_idx, top_eigens, trainloader, testloader,layer = 'fc1'):\n",
    "    images_class, images_nonclass, labels_class, labels_nonclass = get_data_class(class_idx, trainloader)\n",
    "    view_output = []\n",
    "    def hook_fn(module, input, output):\n",
    "        view_output.append(output)\n",
    "\n",
    "    ## Place hooks\n",
    "    view_output = []\n",
    "    def hook_fn(module, input, output):\n",
    "        view_output.append(output)\n",
    "    view_output = []\n",
    "    if layer == 'fc2':\n",
    "        hook = net.fc2.register_forward_hook(hook_fn)\n",
    "    elif layer == 'fc1':\n",
    "        hook = net.fc1.register_forward_hook(hook_fn)\n",
    "    else:\n",
    "        hook = net.fc3.register_forward_hook(hook_fn)\n",
    "    out = net(images_nonclass.to(device))\n",
    "    hook.remove()\n",
    "    torchtensor_nonclass = view_output[0]\n",
    "    \n",
    "    view_output = [] \n",
    "    if layer == 'fc2':\n",
    "        hook = net.fc2.register_forward_hook(hook_fn)\n",
    "    elif layer == 'fc1':\n",
    "        hook = net.fc1.register_forward_hook(hook_fn)\n",
    "    else:\n",
    "        hook = net.classifier[6].register_forward_hook(hook_fn)\n",
    "    out = net(images_class.to(device))\n",
    "    hook.remove()\n",
    "    # SVD\n",
    "    view_output[0] = view_output[0] - view_output[0].mean(0)\n",
    "    torchtensor = view_output[0]\n",
    "    mean_direction = torch.cat([torchtensor_nonclass, torchtensor]).mean(0)\n",
    "    u,s,v = torch.svd(torchtensor.T)\n",
    "    important_direction = u.T[:top_eigens]\n",
    "#     print(f'Removing Eigen Directions of class: {classes[class_idx]}')\n",
    "    removing_object = classes[class_idx]\n",
    "    ## Choose important eigen vector and remove the directions\n",
    "    from baukit import ImageFolderSet, show, renormalize, set_requires_grad, Trace, pbar, TraceDict\n",
    "    views = []\n",
    "    def remove_directions(output,layer):\n",
    "        if len(important_direction) == 0:\n",
    "            return output\n",
    "        output_dup = output.detach().clone()\n",
    "        for i in range(top_eigens):\n",
    "            for j in range(output.shape[0]):\n",
    "                magnitude = torch.norm( important_direction[i])\n",
    "                mean_dot = torch.dot(mean_direction, important_direction[i])/magnitude\n",
    "                dot = torch.dot(output[j], important_direction[i])/magnitude\n",
    "                output_dup[j] = output_dup[j] - important_direction[i]*dot + important_direction[i]*mean_dot\n",
    "        views.append(output_dup)\n",
    "        return output_dup\n",
    "    # prepare to count predictions for each class\n",
    "    correct_pred = {classname: 0 for classname in classes}\n",
    "    total_pred = {classname: 0 for classname in classes}\n",
    "    # prepare to count predictions for each class\n",
    "    correct_pred_edited = {classname: 0 for classname in classes}\n",
    "    total_pred_edited = {classname: 0 for classname in classes}\n",
    "    # again no gradients needed\n",
    "    with torch.no_grad():\n",
    "        for data in testloader:\n",
    "            images, labels = data\n",
    "            outputs = net(images.to(device))\n",
    "            _, predictions = torch.max(outputs, 1)\n",
    "            # collect the correct predictions for each class\n",
    "            for label, prediction in zip(labels, predictions):\n",
    "                if label == prediction:\n",
    "                    correct_pred[classes[label]] += 1\n",
    "                total_pred[classes[label]] += 1\n",
    "            # get edited scores\n",
    "            with Trace(net, layer, edit_output=remove_directions) as tr:\n",
    "                outputs_ = net(images.to(device))\n",
    "            _, predictions_ = torch.max(outputs_, 1)\n",
    "            # collect the correct predictions for each class\n",
    "            for label, prediction in zip(labels, predictions_):\n",
    "                if label == prediction:\n",
    "                    correct_pred_edited[classes[label]] += 1\n",
    "                total_pred_edited[classes[label]] += 1\n",
    "\n",
    "    accs = []\n",
    "    cls = []\n",
    "    for original, edited in zip(correct_pred.items(),correct_pred_edited.items()):\n",
    "        accuracy_original = 100 * float(original[1]) / total_pred[original[0]]\n",
    "        accuracy_edited = 100 * float(edited[1]) / total_pred[edited[0]]\n",
    "        perc_changed = (accuracy_original - accuracy_edited)\n",
    "        accs.append(f'{perc_changed:.1f}')\n",
    "        cls.append(original[0])\n",
    "#         print(f'Accuracy for class: {original[0]:5s} \\t Original {accuracy_original:.1f} % \\t Edited {accuracy_edited:.1f} % \\t Change {perc_changed:.1f} %')\n",
    "    text = f'{removing_object} '\n",
    "    for a in accs:\n",
    "        text+=f'& {a} '\n",
    "    print(text + ' \\\\\\\\')\n",
    "#     # print accuracy for each class\n",
    "#     for original, edited in zip(correct_pred.items(),correct_pred_edited.items()):\n",
    "#         accuracy_original = 100 * float(original[1]) / total_pred[original[0]]\n",
    "#         accuracy_edited = 100 * float(edited[1]) / total_pred[edited[0]]\n",
    "#         perc_changed = (accuracy_original - accuracy_edited)\n",
    "#         print(f'Accuracy for class: {original[0]:5s} \\t Original {accuracy_original:.1f} % \\t Edited {accuracy_edited:.1f} % \\t Change {perc_changed:.1f} %')\n",
    "    del images_class, images_nonclass, labels_class, labels_nonclass"
   ]
  },
  {
   "cell_type": "code",
   "execution_count": 48,
   "id": "0d454fc6",
   "metadata": {},
   "outputs": [],
   "source": [
    "def get_data_class(class_,trainloader):\n",
    "    images_class = []\n",
    "    labels_class = []\n",
    "    images_nonclass = []\n",
    "    labels_nonclass = []\n",
    "\n",
    "    for data in trainloader:\n",
    "        if len(images_class) == 250 and len(images_nonclass)==250:\n",
    "            break\n",
    "        images, labels = data\n",
    "        for label, image in zip(labels,images):\n",
    "            if label == class_:\n",
    "                images_class.append(image)\n",
    "                labels_class.append(label)\n",
    "            else:\n",
    "                if len(images_nonclass)<250:\n",
    "                    images_nonclass.append(image)\n",
    "                    labels_nonclass.append(label)\n",
    "    try:\n",
    "        images_class = torch.stack(images_class)\n",
    "        labels_class = torch.stack(labels_class)\n",
    "    except:\n",
    "        pass\n",
    "\n",
    "    \n",
    "    images_nonclass = torch.stack(images_nonclass)\n",
    "    labels_nonclass = torch.stack(labels_nonclass)\n",
    "    del(data)\n",
    "    return images_class, images_nonclass, labels_class, labels_nonclass\n",
    "\n",
    "def eval_top_eigens(class_idx, top_eigens, trainloader, testloader,layer = 'fc1'):\n",
    "    images_class, images_nonclass, labels_class, labels_nonclass = get_data_class(class_idx, trainloader)\n",
    "    view_output = []\n",
    "    def hook_fn(module, input, output):\n",
    "        view_output.append(output)\n",
    "\n",
    "    ## Place hooks\n",
    "    view_output = []\n",
    "    def hook_fn(module, input, output):\n",
    "        view_output.append(output)\n",
    "    view_output = []\n",
    "    if layer == 'fc2':\n",
    "        hook = net.fc2.register_forward_hook(hook_fn)\n",
    "    elif layer == 'fc1':\n",
    "        hook = net.fc1.register_forward_hook(hook_fn)\n",
    "    else:\n",
    "        hook = net.classifier[6].register_forward_hook(hook_fn)\n",
    "    out = net(images_class.to(device))\n",
    "    hook.remove()\n",
    "    # SVD\n",
    "    view_output[0] = view_output[0] - view_output[0].mean(0)\n",
    "    torchtensor = view_output[0]\n",
    "    u,s,v = torch.svd(torchtensor.T)\n",
    "    important_direction = u.T[:top_eigens]\n",
    "#     print(f'Removing Eigen Directions of class: {classes[class_idx]}')\n",
    "    ## Choose important eigen vector and remove the directions\n",
    "    removing_object = classes[class_idx]\n",
    "    from baukit import ImageFolderSet, show, renormalize, set_requires_grad, Trace, pbar, TraceDict\n",
    "    views = []\n",
    "    def remove_directions(output,layer):\n",
    "        if len(important_direction) == 0:\n",
    "            return output\n",
    "        output_dup = output.detach().clone()\n",
    "        for i in range(top_eigens):\n",
    "            for j in range(output.shape[0]):\n",
    "                dot = torch.dot(output[j], important_direction[i])\n",
    "                output_dup[j] = output_dup[j] - important_direction[i]*dot\n",
    "        views.append(output_dup)\n",
    "        return output_dup\n",
    "    # prepare to count predictions for each class\n",
    "    correct_pred = {classname: 0 for classname in classes}\n",
    "    total_pred = {classname: 0 for classname in classes}\n",
    "    # prepare to count predictions for each class\n",
    "    correct_pred_edited = {classname: 0 for classname in classes}\n",
    "    total_pred_edited = {classname: 0 for classname in classes}\n",
    "    # again no gradients needed\n",
    "    with torch.no_grad():\n",
    "        for data in testloader:\n",
    "            images, labels = data\n",
    "            outputs = net(images.to(device))\n",
    "            _, predictions = torch.max(outputs, 1)\n",
    "            # collect the correct predictions for each class\n",
    "            for label, prediction in zip(labels, predictions):\n",
    "                if label == prediction:\n",
    "                    correct_pred[classes[label]] += 1\n",
    "                total_pred[classes[label]] += 1\n",
    "            # get edited scores\n",
    "            with Trace(net, layer, edit_output=remove_directions) as tr:\n",
    "                outputs_ = net(images.to(device))\n",
    "            _, predictions_ = torch.max(outputs_, 1)\n",
    "            # collect the correct predictions for each class\n",
    "            for label, prediction in zip(labels, predictions_):\n",
    "                if label == prediction:\n",
    "                    correct_pred_edited[classes[label]] += 1\n",
    "                total_pred_edited[classes[label]] += 1\n",
    "\n",
    "    accs = []\n",
    "    cls = []\n",
    "    for original, edited in zip(correct_pred.items(),correct_pred_edited.items()):\n",
    "        accuracy_original = 100 * float(original[1]) / total_pred[original[0]]\n",
    "        accuracy_edited = 100 * float(edited[1]) / total_pred[edited[0]]\n",
    "        perc_changed = (accuracy_original - accuracy_edited)\n",
    "        accs.append(f'{perc_changed:.1f}')\n",
    "        cls.append(original[0])\n",
    "#         print(f'Accuracy for class: {original[0]:5s} \\t Original {accuracy_original:.1f} % \\t Edited {accuracy_edited:.1f} % \\t Change {perc_changed:.1f} %')\n",
    "    text = f'{removing_object} '\n",
    "    for a in accs:\n",
    "        text+=f'& {a} '\n",
    "    print(text + ' \\\\\\\\')\n",
    "#     # print accuracy for each class\n",
    "#     for original, edited in zip(correct_pred.items(),correct_pred_edited.items()):\n",
    "#         accuracy_original = 100 * float(original[1]) / total_pred[original[0]]\n",
    "#         accuracy_edited = 100 * float(edited[1]) / total_pred[edited[0]]\n",
    "#         perc_changed = (accuracy_original - accuracy_edited)\n",
    "#         print(f'Accuracy for class: {original[0]:5s} \\t Original {accuracy_original:.1f} % \\t Edited {accuracy_edited:.1f} % \\t Change {perc_changed:.1f} %')\n",
    "    del images_class, images_nonclass, labels_class, labels_nonclass"
   ]
  },
  {
   "cell_type": "markdown",
   "id": "fa32adc7",
   "metadata": {},
   "source": [
    "# Top 1 Eigen Vectors"
   ]
  },
  {
   "cell_type": "code",
   "execution_count": 49,
   "id": "408550a6",
   "metadata": {},
   "outputs": [
    {
     "name": "stdout",
     "output_type": "stream",
     "text": [
      "plane & -2.1 & 2.5 & -0.9 & -3.6 & 7.6 & 4.0 & -4.7 & -3.1 & -3.2 & 18.9  \\\\\n",
      "car & -2.8 & 91.4 & -0.6 & 10.6 & 9.2 & -3.9 & -4.2 & -1.5 & -1.5 & -1.7  \\\\\n",
      "bird & -2.1 & -0.1 & 2.3 & -4.3 & 1.7 & 6.1 & -3.7 & -2.4 & -1.8 & 13.9  \\\\\n",
      "cat & -2.0 & 91.0 & -2.5 & 16.0 & 1.8 & -0.3 & -3.9 & -2.7 & -2.1 & 1.7  \\\\\n",
      "deer & -2.5 & 2.2 & -2.5 & -3.7 & 46.7 & 0.5 & -3.8 & -2.2 & -3.5 & 6.0  \\\\\n",
      "dog & 2.0 & -2.7 & -2.2 & -7.4 & -0.7 & 77.1 & -2.4 & -3.2 & -2.7 & 21.5  \\\\\n",
      "frog & -0.2 & 0.1 & -1.4 & -3.1 & 4.8 & 4.3 & -3.0 & -3.2 & -2.7 & 25.1  \\\\\n",
      "horse & -1.1 & -0.3 & -1.7 & -1.7 & -4.2 & -0.7 & 1.9 & 89.4 & 10.7 & -1.7  \\\\\n",
      "ship & -2.1 & -0.6 & -0.3 & -0.1 & -2.1 & -2.2 & -0.2 & 13.6 & 85.2 & -1.6  \\\\\n",
      "truck & -3.0 & -0.9 & -0.1 & -5.6 & 7.1 & 5.1 & -3.5 & -3.3 & -3.4 & 86.6  \\\\\n"
     ]
    }
   ],
   "source": [
    "for i in range(10):\n",
    "    eval_top_eigens(class_idx = i, top_eigens = 1,trainloader=trainloader,testloader=testloader, layer='classifier.6')\n",
    "#     print('---------------------------------------------------------------')"
   ]
  },
  {
   "cell_type": "markdown",
   "id": "79baf8ed",
   "metadata": {},
   "source": [
    "# Top 3 Eigen Vectors"
   ]
  },
  {
   "cell_type": "code",
   "execution_count": 52,
   "id": "ff34b872",
   "metadata": {},
   "outputs": [
    {
     "name": "stdout",
     "output_type": "stream",
     "text": [
      "plane & 69.1 & 91.2 & 0.7 & -16.7 & 59.7 & 79.9 & -5.9 & 88.3 & 68.0 & 87.5  \\\\\n",
      "---------------------------------------------------------------\n",
      "car & -8.4 & 91.6 & -9.5 & 72.2 & -6.7 & 79.9 & 80.3 & 88.6 & 71.9 & 87.3  \\\\\n",
      "---------------------------------------------------------------\n",
      "bird & 73.3 & 91.3 & 78.6 & -8.7 & 17.5 & 80.3 & -7.9 & 89.5 & -4.5 & 87.7  \\\\\n",
      "---------------------------------------------------------------\n",
      "cat & -3.6 & 91.5 & -10.8 & 72.5 & -6.8 & 80.2 & 79.4 & 89.5 & 45.7 & 71.5  \\\\\n",
      "---------------------------------------------------------------\n",
      "deer & -0.9 & 91.5 & 0.6 & 73.1 & 85.0 & 80.2 & -11.0 & 89.4 & -4.8 & 87.7  \\\\\n",
      "---------------------------------------------------------------\n",
      "dog & -8.7 & 91.5 & -5.6 & 73.5 & 81.6 & 80.0 & -8.3 & 87.7 & 85.2 & 26.3  \\\\\n",
      "---------------------------------------------------------------\n",
      "frog & 0.1 & 91.3 & -11.2 & 61.9 & -6.1 & 79.9 & 79.8 & 89.3 & 84.4 & 87.9  \\\\\n",
      "---------------------------------------------------------------\n",
      "horse & 0.4 & 91.4 & -1.6 & 72.7 & 83.9 & 80.0 & -10.3 & 89.5 & -4.8 & 87.7  \\\\\n",
      "---------------------------------------------------------------\n",
      "ship & -4.5 & 91.2 & -11.8 & 72.7 & -5.4 & 79.5 & 79.4 & 89.0 & 84.1 & 87.2  \\\\\n",
      "---------------------------------------------------------------\n",
      "truck & 15.0 & 91.1 & -6.1 & -6.9 & -6.4 & 79.7 & 79.5 & 89.3 & 84.8 & 87.9  \\\\\n",
      "---------------------------------------------------------------\n"
     ]
    }
   ],
   "source": [
    "for i in range(10):\n",
    "    eval_top_eigens(class_idx = i, top_eigens = 5,trainloader=trainloader,testloader=testloader, layer='classifier.6')\n"
   ]
  },
  {
   "cell_type": "markdown",
   "id": "48b5d3c8",
   "metadata": {},
   "source": [
    "# Top 5 Eigen Vectors"
   ]
  },
  {
   "cell_type": "code",
   "execution_count": 53,
   "id": "4e4539c8",
   "metadata": {},
   "outputs": [
    {
     "name": "stdout",
     "output_type": "stream",
     "text": [
      "plane & 35.3 & 38.0 & -4.7 & -4.8 & 4.5 & 4.9 & -4.4 & 2.5 & -1.7 & 28.9  \\\\\n",
      "car & -6.1 & 91.3 & -2.9 & 0.7 & 1.1 & 7.5 & -7.4 & 9.3 & 84.5 & 86.3  \\\\\n",
      "bird & 0.6 & -0.4 & 26.0 & -9.6 & -2.4 & 22.2 & -4.0 & 89.6 & 3.2 & 25.1  \\\\\n",
      "cat & -5.8 & 90.6 & -4.5 & 72.5 & -4.2 & -2.9 & -6.6 & 89.9 & 2.0 & 50.7  \\\\\n",
      "deer & 6.7 & 5.7 & -7.5 & -7.7 & 75.1 & 80.1 & -4.7 & 89.7 & -3.4 & 3.7  \\\\\n",
      "dog & -4.6 & 91.4 & -3.7 & -12.3 & 1.7 & 79.5 & -5.6 & 89.7 & 2.6 & 71.9  \\\\\n",
      "frog & -0.2 & 91.2 & -5.3 & -8.6 & 2.1 & 60.5 & 71.5 & 11.2 & -3.9 & 4.5  \\\\\n",
      "horse & -3.2 & 91.0 & -6.7 & -12.9 & 14.5 & 79.8 & -5.3 & 89.4 & 2.8 & 15.5  \\\\\n",
      "ship & 4.3 & 90.1 & -4.9 & -6.7 & 1.3 & -0.4 & -1.8 & 26.3 & 84.7 & 16.4  \\\\\n",
      "truck & -6.2 & 91.4 & -2.3 & -8.1 & 0.0 & 73.5 & -6.6 & 25.2 & 48.2 & 86.0  \\\\\n"
     ]
    }
   ],
   "source": [
    "for i in range(10):\n",
    "    eval_top_eigens(class_idx = i, top_eigens = 3,trainloader=trainloader,testloader=testloader, layer='classifier.6')\n"
   ]
  },
  {
   "cell_type": "markdown",
   "id": "86dda1a5",
   "metadata": {},
   "source": [
    "# Visualization"
   ]
  },
  {
   "cell_type": "code",
   "execution_count": null,
   "id": "a32db81f",
   "metadata": {},
   "outputs": [],
   "source": [
    "## Visualizing the layer outputs\n",
    "import pandas as pd\n",
    "import time\n",
    "import seaborn as sns\n",
    "import matplotlib.pyplot as plt\n",
    "from sklearn.manifold import TSNE\n",
    "\n",
    "images_class, images_nonclass, labels_class, labels_nonclass = get_data_class(100)\n",
    "view_output = []\n",
    "def hook_fn(module, input, output):\n",
    "    view_output.append(output)\n",
    "\n",
    "# again no gradients needed\n",
    "view_output = []\n",
    "hook = net.conv2.register_forward_hook(hook_fn)\n",
    "with torch.no_grad():\n",
    "    outputs = net(images_nonclass)\n",
    "    _, predictions = torch.max(outputs, 1)\n",
    "hook.remove()\n",
    "\n",
    "out = view_output[0].flatten(1,-1)\n",
    "\n",
    "df = pd.DataFrame(out.detach().numpy())\n",
    "\n",
    "data_subset = df.values\n",
    "\n",
    "df['y'] = labels_nonclass.detach().numpy()\n",
    "\n",
    "time_start = time.time()\n",
    "tsne = TSNE(n_components=2, verbose=1, perplexity=40, n_iter=300)\n",
    "tsne_results = tsne.fit_transform(data_subset)\n",
    "\n",
    "print('t-SNE done! Time elapsed: {} seconds'.format(time.time()-time_start))\n",
    "\n",
    "\n",
    "df['tsne-2d-one'] = tsne_results[:,0]\n",
    "df['tsne-2d-two'] = tsne_results[:,1]\n",
    "\n",
    "\n",
    "plt.figure(figsize=(16,10))\n",
    "sns.color_palette(\"tab10\")\n",
    "sns.lmplot(\n",
    "    x=\"tsne-2d-one\", y=\"tsne-2d-two\",\n",
    "    fit_reg=False,\n",
    "    hue=\"y\",\n",
    "#     palette=sns.color_palette(\"hls\", 10),\n",
    "    data=df,\n",
    "    legend=\"full\",\n",
    "#     alpha=0.3\n",
    ")\n"
   ]
  },
  {
   "cell_type": "code",
   "execution_count": null,
   "id": "f76ed326",
   "metadata": {},
   "outputs": [],
   "source": [
    "import matplotlib.pyplot as plot\n",
    "plot.figure(figsize = (5, 4))\n",
    "plot_axes = plot.axes(projection = '3d')\n",
    "print(type(plot_axes))\n",
    "plot_axes.scatter3D(df[\"tsne-2d-one\"], df[\"tsne-2d-two\"],df['y'])\n"
   ]
  },
  {
   "cell_type": "markdown",
   "id": "f82a602d",
   "metadata": {},
   "source": [
    "# Observations"
   ]
  },
  {
   "cell_type": "markdown",
   "id": "0d97fb65",
   "metadata": {},
   "source": [
    "The final layer acts like a logistic regression, therefore, removing important directions could have some interpretable effect on the performance. If we remove direction of 1 class, there is effect on that class. But not for all other classes. Similarly, we find that it is not possible to erase a direction from early layers and draw meaningful conclusions"
   ]
  }
 ],
 "metadata": {
  "kernelspec": {
   "display_name": "Python 3 (ipykernel)",
   "language": "python",
   "name": "python3"
  },
  "language_info": {
   "codemirror_mode": {
    "name": "ipython",
    "version": 3
   },
   "file_extension": ".py",
   "mimetype": "text/x-python",
   "name": "python",
   "nbconvert_exporter": "python",
   "pygments_lexer": "ipython3",
   "version": "3.9.13"
  }
 },
 "nbformat": 4,
 "nbformat_minor": 5
}
