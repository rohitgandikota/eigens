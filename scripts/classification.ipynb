{
 "cells": [
  {
   "cell_type": "code",
   "execution_count": 54,
   "id": "df55c6f6",
   "metadata": {},
   "outputs": [],
   "source": [
    "import torch\n",
    "import torchvision\n",
    "import torchvision.transforms as transforms\n",
    "from baukit import ImageFolderSet, show, renormalize, set_requires_grad, Trace, pbar, TraceDict\n",
    "import matplotlib.pyplot as plt\n",
    "import numpy as np\n",
    "import torch.nn as nn\n",
    "import torch.nn.functional as F\n",
    "import os\n",
    "from PIL import Image\n",
    "import pandas as pd\n",
    "import seaborn as sns"
   ]
  },
  {
   "cell_type": "code",
   "execution_count": 3,
   "id": "03aa4b69",
   "metadata": {},
   "outputs": [],
   "source": [
    "\n",
    "\n",
    "class Net(nn.Module):\n",
    "    def __init__(self):\n",
    "        super().__init__()\n",
    "        self.conv1 = nn.Conv2d(3, 6, 5)\n",
    "        self.pool = nn.MaxPool2d(2, 2)\n",
    "        self.conv2 = nn.Conv2d(6, 16, 5)\n",
    "        self.fc1 = nn.Linear(16 * 5 * 5, 120)\n",
    "        self.fc2 = nn.Linear(120, 84)\n",
    "        self.fc3 = nn.Linear(84, 10)\n",
    "        self.softmax = nn.Softmax(dim=1)\n",
    "\n",
    "    def forward(self, x):\n",
    "        x = self.pool(F.relu(self.conv1(x)))\n",
    "        x = self.pool(F.relu(self.conv2(x)))\n",
    "        x = torch.flatten(x, 1) # flatten all dimensions except batch\n",
    "        x = F.relu(self.fc1(x))\n",
    "        x = F.relu(self.fc2(x))\n",
    "        x = self.fc3(x)\n",
    "#         x = self.softmax(x)\n",
    "        return x\n"
   ]
  },
  {
   "cell_type": "code",
   "execution_count": 59,
   "id": "aa4f961d",
   "metadata": {},
   "outputs": [
    {
     "data": {
      "text/plain": [
       "'original'"
      ]
     },
     "execution_count": 59,
     "metadata": {},
     "output_type": "execute_result"
    }
   ],
   "source": [
    "folder"
   ]
  },
  {
   "cell_type": "code",
   "execution_count": 60,
   "id": "eb269a56",
   "metadata": {},
   "outputs": [
    {
     "name": "stdout",
     "output_type": "stream",
     "text": [
      "erasing-dog-with-preservation\n",
      "Accuracy of dog: 0.2\n",
      "Accuracy of plane: 0.8\n",
      "Accuracy of ship: 0.49\n",
      "Accuracy of car: 0.58\n",
      "Accuracy of bird: 0.59\n",
      "erasing-ship-with-preservation\n",
      "Accuracy of ship: 0.24\n",
      "Accuracy of plane: 0.76\n",
      "Accuracy of dog: 0.4\n",
      "Accuracy of car: 0.66\n",
      "Accuracy of bird: 0.64\n",
      "erasing-car-with-preservation\n",
      "Accuracy of car: 0.3\n",
      "Accuracy of plane: 0.75\n",
      "Accuracy of ship: 0.47\n",
      "Accuracy of dog: 0.42\n",
      "Accuracy of bird: 0.64\n",
      "erasing-plane-with-preservation\n",
      "Accuracy of plane: 0.32\n",
      "Accuracy of ship: 0.51\n",
      "Accuracy of dog: 0.47\n",
      "Accuracy of car: 0.64\n",
      "Accuracy of bird: 0.69\n",
      "erasing-bird-with-preservation\n",
      "Accuracy of bird: 0.12\n",
      "Accuracy of plane: 0.85\n",
      "Accuracy of ship: 0.57\n",
      "Accuracy of dog: 0.42\n",
      "Accuracy of car: 0.59\n",
      "original\n",
      "Accuracy of plane: 0.8\n",
      "Accuracy of ship: 0.52\n",
      "Accuracy of dog: 0.41\n",
      "Accuracy of car: 0.57\n",
      "Accuracy of bird: 0.63\n"
     ]
    }
   ],
   "source": [
    "\n",
    "transform = transforms.Compose(\n",
    "    [transforms.ToTensor(),\n",
    "     transforms.Normalize((0.5, 0.5, 0.5), (0.5, 0.5, 0.5)),\n",
    "    transforms.Resize((32,32))])\n",
    "df = pd.read_csv('/share/u/rohit/eigens/notebooks/object_prompts.csv')\n",
    "classes = ('plane', 'car', 'bird', 'cat',\n",
    "               'deer', 'dog', 'frog', 'horse', 'ship', 'truck')\n",
    "\n",
    "model = vgg13_bn(pretrained=True)\n",
    "model.to(device)\n",
    "main_folder = '/share/u/rohit/www/eigens/'\n",
    "folders = os.listdir(main_folder)\n",
    "batch_size = 500\n",
    "topk =1\n",
    "accuracies = []\n",
    "classes_list = []\n",
    "models_list = []\n",
    "for folder in folders:\n",
    "    total_count = {}\n",
    "    true_pred = {}\n",
    "    if folder == 'original':\n",
    "        class_ = 'all'\n",
    "        model_ = 'Original'\n",
    "    else:\n",
    "        class_ = folder.split('-')[1]\n",
    "        model_ = f'Edited {class_}'\n",
    "    \n",
    "    names = os.listdir(os.path.join(main_folder, folder))\n",
    "    names = [name for name in names if '.png' in name or '.jpg' in name]\n",
    "\n",
    "    images = []\n",
    "    for name in names:\n",
    "        img = Image.open(os.path.join(os.path.join(main_folder,folder), name))\n",
    "        batch = transform(img)\n",
    "        images.append(batch)\n",
    "#     if batch_size == None:\n",
    "#         batch_size = len(names)\n",
    "#     if batch_size > len(names):\n",
    "#         batch_size = len(names)\n",
    "    images = torch.stack(images)\n",
    "    # Step 4: Use the model and print the predicted category\n",
    "    for i in range(((len(names)-1)//batch_size)+1):\n",
    "        batch = images[i*batch_size: min(len(names), (i+1)*batch_size)].to(device)\n",
    "        with torch.no_grad():\n",
    "            outputs = model(batch)\n",
    "            _, predictions = torch.max(outputs, 1)\n",
    "    for i, name in enumerate(names):\n",
    "        case_number =  int(name.split('/')[-1].split('_')[0])\n",
    "        true = df.loc[df.case_number==case_number].object.item()\n",
    "        predicted = classes[predictions[i]]\n",
    "        total_count[true] = total_count.get(true, 0) + 1 \n",
    "        if true==predicted:\n",
    "            true_pred[true]= true_pred.get(true, 0) + 1\n",
    "    print(folder)\n",
    "    for key in total_count.keys():\n",
    "        print(f'Accuracy of {key}: {true_pred[key]/total_count[key]}')\n",
    "        accuracies.append(true_pred[key]/total_count[key])\n",
    "        classes_list.append(key)\n",
    "        models_list.append(model_)"
   ]
  },
  {
   "cell_type": "code",
   "execution_count": 61,
   "id": "ce48ef39",
   "metadata": {},
   "outputs": [],
   "source": [
    "df_plot = {'Model': models_list,\n",
    "          'Class': classes_list,\n",
    "          'Accuracy': accuracies}"
   ]
  },
  {
   "cell_type": "code",
   "execution_count": 69,
   "id": "6a47ad94",
   "metadata": {},
   "outputs": [
    {
     "data": {
      "image/png": "[encoded data removed]",
      "text/plain": [
       "<Figure size 1000x500 with 1 Axes>"
      ]
     },
     "metadata": {},
     "output_type": "display_data"
    }
   ],
   "source": [
    "df_plot = pd.DataFrame(df_plot)\n",
    "\n",
    "plt.figure(figsize=(10,5))\n",
    "ax = sns.barplot(data=df_plot, x='Class', y='Accuracy',hue = 'Model', palette=\"muted\")\n",
    "sns.move_legend(ax, \"upper left\", bbox_to_anchor=(1, 1))"
   ]
  },
  {
   "cell_type": "code",
   "execution_count": 52,
   "id": "f83a1901",
   "metadata": {},
   "outputs": [
    {
     "data": {
      "text/plain": [
       "<AxesSubplot: xlabel='Class', ylabel='Accuracy'>"
      ]
     },
     "execution_count": 52,
     "metadata": {},
     "output_type": "execute_result"
    },
    {
     "data": {
      "image/png": "[encoded data removed]",
      "text/plain": [
       "<Figure size 640x480 with 1 Axes>"
      ]
     },
     "metadata": {},
     "output_type": "display_data"
    }
   ],
   "source": [
    "df_plot = pd.DataFrame(df_plot)\n",
    "\n",
    "sns.barplot(data=df_plot, x='Class', y='Accuracy',hue = 'Model')\n",
    "# plt.title('Editing Knowledge of Diffusion Models')"
   ]
  },
  {
   "cell_type": "code",
   "execution_count": 42,
   "id": "ebdb65a8",
   "metadata": {},
   "outputs": [],
   "source": [
    "import os\n",
    "\n",
    "import torch\n",
    "import torch.nn as nn\n",
    "\n",
    "__all__ = [\n",
    "    \"VGG\",\n",
    "    \"vgg11_bn\",\n",
    "    \"vgg13_bn\",\n",
    "    \"vgg16_bn\",\n",
    "    \"vgg19_bn\",\n",
    "]\n",
    "\n",
    "\n",
    "class VGG(nn.Module):\n",
    "    def __init__(self, features, num_classes=10, init_weights=True):\n",
    "        super(VGG, self).__init__()\n",
    "        self.features = features\n",
    "        # CIFAR 10 (7, 7) to (1, 1)\n",
    "        # self.avgpool = nn.AdaptiveAvgPool2d((7, 7))\n",
    "        self.avgpool = nn.AdaptiveAvgPool2d((1, 1))\n",
    "\n",
    "        self.classifier = nn.Sequential(\n",
    "            nn.Linear(512 * 1 * 1, 4096),\n",
    "            # nn.Linear(512 * 7 * 7, 4096),\n",
    "            nn.ReLU(True),\n",
    "            nn.Dropout(),\n",
    "            nn.Linear(4096, 4096),\n",
    "            nn.ReLU(True),\n",
    "            nn.Dropout(),\n",
    "            nn.Linear(4096, num_classes),\n",
    "        )\n",
    "        if init_weights:\n",
    "            self._initialize_weights()\n",
    "\n",
    "    def forward(self, x):\n",
    "        x = self.features(x)\n",
    "        x = self.avgpool(x)\n",
    "        x = x.view(x.size(0), -1)\n",
    "        x = self.classifier(x)\n",
    "        return x\n",
    "\n",
    "    def _initialize_weights(self):\n",
    "        for m in self.modules():\n",
    "            if isinstance(m, nn.Conv2d):\n",
    "                nn.init.kaiming_normal_(m.weight, mode=\"fan_out\", nonlinearity=\"relu\")\n",
    "                if m.bias is not None:\n",
    "                    nn.init.constant_(m.bias, 0)\n",
    "            elif isinstance(m, nn.BatchNorm2d):\n",
    "                nn.init.constant_(m.weight, 1)\n",
    "                nn.init.constant_(m.bias, 0)\n",
    "            elif isinstance(m, nn.Linear):\n",
    "                nn.init.normal_(m.weight, 0, 0.01)\n",
    "                nn.init.constant_(m.bias, 0)\n",
    "\n",
    "\n",
    "def make_layers(cfg, batch_norm=False):\n",
    "    layers = []\n",
    "    in_channels = 3\n",
    "    for v in cfg:\n",
    "        if v == \"M\":\n",
    "            layers += [nn.MaxPool2d(kernel_size=2, stride=2)]\n",
    "        else:\n",
    "            conv2d = nn.Conv2d(in_channels, v, kernel_size=3, padding=1)\n",
    "            if batch_norm:\n",
    "                layers += [conv2d, nn.BatchNorm2d(v), nn.ReLU(inplace=True)]\n",
    "            else:\n",
    "                layers += [conv2d, nn.ReLU(inplace=True)]\n",
    "            in_channels = v\n",
    "    return nn.Sequential(*layers)\n",
    "\n",
    "\n",
    "cfgs = {\n",
    "    \"A\": [64, \"M\", 128, \"M\", 256, 256, \"M\", 512, 512, \"M\", 512, 512, \"M\"],\n",
    "    \"B\": [64, 64, \"M\", 128, 128, \"M\", 256, 256, \"M\", 512, 512, \"M\", 512, 512, \"M\"],\n",
    "    \"D\": [\n",
    "        64,\n",
    "        64,\n",
    "        \"M\",\n",
    "        128,\n",
    "        128,\n",
    "        \"M\",\n",
    "        256,\n",
    "        256,\n",
    "        256,\n",
    "        \"M\",\n",
    "        512,\n",
    "        512,\n",
    "        512,\n",
    "        \"M\",\n",
    "        512,\n",
    "        512,\n",
    "        512,\n",
    "        \"M\",\n",
    "    ],\n",
    "    \"E\": [\n",
    "        64,\n",
    "        64,\n",
    "        \"M\",\n",
    "        128,\n",
    "        128,\n",
    "        \"M\",\n",
    "        256,\n",
    "        256,\n",
    "        256,\n",
    "        256,\n",
    "        \"M\",\n",
    "        512,\n",
    "        512,\n",
    "        512,\n",
    "        512,\n",
    "        \"M\",\n",
    "        512,\n",
    "        512,\n",
    "        512,\n",
    "        512,\n",
    "        \"M\",\n",
    "    ],\n",
    "}\n",
    "\n",
    "\n",
    "def _vgg(arch, cfg, batch_norm, pretrained, progress, device, **kwargs):\n",
    "    if pretrained:\n",
    "        kwargs[\"init_weights\"] = False\n",
    "    model = VGG(make_layers(cfgs[cfg], batch_norm=batch_norm), **kwargs)\n",
    "    if pretrained:\n",
    "        state_dict = torch.load(\n",
    "             \"state_dicts/\" + arch + \".pt\", map_location=device\n",
    "        )\n",
    "        model.load_state_dict(state_dict)\n",
    "    return model\n",
    "\n",
    "\n",
    "def vgg11_bn(pretrained=False, progress=True, device=\"cpu\", **kwargs):\n",
    "    \"\"\"VGG 11-layer model (configuration \"A\") with batch normalization\n",
    "    Args:\n",
    "        pretrained (bool): If True, returns a model pre-trained on ImageNet\n",
    "        progress (bool): If True, displays a progress bar of the download to stderr\n",
    "    \"\"\"\n",
    "    return _vgg(\"vgg11_bn\", \"A\", True, pretrained, progress, device, **kwargs)\n",
    "\n",
    "\n",
    "def vgg13_bn(pretrained=False, progress=True, device=\"cpu\", **kwargs):\n",
    "    \"\"\"VGG 13-layer model (configuration \"B\") with batch normalization\n",
    "    Args:\n",
    "        pretrained (bool): If True, returns a model pre-trained on ImageNet\n",
    "        progress (bool): If True, displays a progress bar of the download to stderr\n",
    "    \"\"\"\n",
    "    return _vgg(\"vgg13_bn\", \"B\", True, pretrained, progress, device, **kwargs)\n",
    "\n",
    "\n",
    "def vgg16_bn(pretrained=False, progress=True, device=\"cpu\", **kwargs):\n",
    "    \"\"\"VGG 16-layer model (configuration \"D\") with batch normalization\n",
    "    Args:\n",
    "        pretrained (bool): If True, returns a model pre-trained on ImageNet\n",
    "        progress (bool): If True, displays a progress bar of the download to stderr\n",
    "    \"\"\"\n",
    "    return _vgg(\"vgg16_bn\", \"D\", True, pretrained, progress, device, **kwargs)\n",
    "\n",
    "\n",
    "def vgg19_bn(pretrained=False, progress=True, device=\"cpu\", **kwargs):\n",
    "    \"\"\"VGG 19-layer model (configuration 'E') with batch normalization\n",
    "    Args:\n",
    "        pretrained (bool): If True, returns a model pre-trained on ImageNet\n",
    "        progress (bool): If True, displays a progress bar of the download to stderr\n",
    "    \"\"\"\n",
    "    return _vgg(\"vgg19_bn\", \"E\", True, pretrained, progress, device, **kwargs)"
   ]
  },
  {
   "cell_type": "code",
   "execution_count": 43,
   "id": "595d6e6b",
   "metadata": {},
   "outputs": [],
   "source": [
    "model = vgg13_bn(pretrained=True)"
   ]
  },
  {
   "cell_type": "code",
   "execution_count": 45,
   "id": "ecaf8817",
   "metadata": {},
   "outputs": [],
   "source": [
    "model.to(device)\n",
    "out = model(batch)"
   ]
  },
  {
   "cell_type": "code",
   "execution_count": 46,
   "id": "c988aa12",
   "metadata": {},
   "outputs": [
    {
     "data": {
      "text/plain": [
       "tensor([[ 4.2266, -0.4370,  0.2412,  ...,  0.0436, -0.0134, -0.0545],\n",
       "        [ 4.3933, -0.4164,  0.1118,  ..., -0.0767,  0.0470, -0.3399],\n",
       "        [ 4.9385, -0.5143,  0.4112,  ..., -0.2256,  0.1572, -0.3879],\n",
       "        ...,\n",
       "        [ 0.3547, -2.4373,  5.8645,  ..., -0.5893, -1.0333, -2.1563],\n",
       "        [-2.3920, -0.4047,  0.4183,  ..., -2.7082, -1.7371, -1.2957],\n",
       "        [-0.9324, -2.0703,  0.5152,  ..., -1.3123, -0.8599, -1.2145]],\n",
       "       device='cuda:0', grad_fn=<AddmmBackward0>)"
      ]
     },
     "execution_count": 46,
     "metadata": {},
     "output_type": "execute_result"
    }
   ],
   "source": [
    "out"
   ]
  }
 ],
 "metadata": {
  "kernelspec": {
   "display_name": "Python 3 (ipykernel)",
   "language": "python",
   "name": "python3"
  },
  "language_info": {
   "codemirror_mode": {
    "name": "ipython",
    "version": 3
   },
   "file_extension": ".py",
   "mimetype": "text/x-python",
   "name": "python",
   "nbconvert_exporter": "python",
   "pygments_lexer": "ipython3",
   "version": "3.9.13"
  }
 },
 "nbformat": 4,
 "nbformat_minor": 5
}
